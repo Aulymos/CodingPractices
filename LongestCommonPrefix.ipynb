{
 "cells": [
  {
   "cell_type": "markdown",
   "id": "f57630b5",
   "metadata": {},
   "source": [
    "## Qeustion 14 Longest Common Prefix"
   ]
  },
  {
   "cell_type": "markdown",
   "id": "719611f8",
   "metadata": {},
   "source": [
    "### Description"
   ]
  },
  {
   "cell_type": "code",
   "execution_count": 1,
   "id": "c46a466e",
   "metadata": {},
   "outputs": [
    {
     "data": {
      "text/plain": [
       "'\\nWrite a function to find the longest common prefix string amongst an array of strings.\\n\\nIf there is no common prefix, return an empty string \"\".\\n'"
      ]
     },
     "execution_count": 1,
     "metadata": {},
     "output_type": "execute_result"
    }
   ],
   "source": [
    "\"\"\"\n",
    "Write a function to find the longest common prefix string amongst an array of strings.\n",
    "\n",
    "If there is no common prefix, return an empty string \"\".\n",
    "\"\"\""
   ]
  },
  {
   "cell_type": "markdown",
   "id": "e2edf164",
   "metadata": {},
   "source": [
    "### Example 1"
   ]
  },
  {
   "cell_type": "code",
   "execution_count": 2,
   "id": "ecc8cbc1",
   "metadata": {},
   "outputs": [
    {
     "data": {
      "text/plain": [
       "'\\nInput: strs = [\"flower\", \"flow\", \"flight\"]\\nOutput: \"fl\"\\n'"
      ]
     },
     "execution_count": 2,
     "metadata": {},
     "output_type": "execute_result"
    }
   ],
   "source": [
    "\"\"\"\n",
    "Input: strs = [\"flower\", \"flow\", \"flight\"]\n",
    "Output: \"fl\"\n",
    "\"\"\""
   ]
  },
  {
   "cell_type": "markdown",
   "id": "3083ff44",
   "metadata": {},
   "source": [
    "### Example 2"
   ]
  },
  {
   "cell_type": "code",
   "execution_count": 3,
   "id": "75d14401",
   "metadata": {},
   "outputs": [
    {
     "data": {
      "text/plain": [
       "'\\nInput: strs = [\"dog\", \"racecar\", \"car\"]\\nOutput: \"\"\\nExplanation: There is no common prefix among the input strings.\\n'"
      ]
     },
     "execution_count": 3,
     "metadata": {},
     "output_type": "execute_result"
    }
   ],
   "source": [
    "\"\"\"\n",
    "Input: strs = [\"dog\", \"racecar\", \"car\"]\n",
    "Output: \"\"\n",
    "Explanation: There is no common prefix among the input strings.\n",
    "\"\"\""
   ]
  },
  {
   "cell_type": "markdown",
   "id": "e792d947",
   "metadata": {},
   "source": [
    "### Solution: Horizontal scanning"
   ]
  },
  {
   "cell_type": "markdown",
   "id": "fdcff06a",
   "metadata": {},
   "source": [
    "#### initialise the strings to be checked"
   ]
  },
  {
   "cell_type": "code",
   "execution_count": 4,
   "id": "616f98ca",
   "metadata": {},
   "outputs": [],
   "source": [
    "strs = [\"flower\", \"flow\", \"flight\"]"
   ]
  },
  {
   "cell_type": "markdown",
   "id": "d179d2d0",
   "metadata": {},
   "source": [
    "#### method "
   ]
  },
  {
   "cell_type": "code",
   "execution_count": 5,
   "id": "440ec219",
   "metadata": {},
   "outputs": [
    {
     "data": {
      "text/plain": [
       "'\\n1. define lcp(S[0]...S[n]) as True where 0 <= n <= (len(strs) - 1), \\n    if the first n strings in strs share Longest Common Prefix.\\n    \\n2. for k many strs to be checked\\n    if lcp(s[0]...s[k-1]) is true with the Longest Common Prefix, pref, \\n        then, if pref is also the prefix of S[k]\\n            then lcp(s[0]...s[k]) is True\\n'"
      ]
     },
     "execution_count": 5,
     "metadata": {},
     "output_type": "execute_result"
    }
   ],
   "source": [
    "\"\"\"\n",
    "1. define lcp(S[0]...S[n]) as True where 0 <= n <= (len(strs) - 1), \n",
    "    if the first n strings in strs share Longest Common Prefix.\n",
    "    \n",
    "2. for k many strs to be checked\n",
    "    if lcp(s[0]...s[k-1]) is true with the Longest Common Prefix, pref, \n",
    "        then, if pref is also the prefix of S[k]\n",
    "            then lcp(s[0]...s[k]) is True\n",
    "\"\"\""
   ]
  },
  {
   "cell_type": "markdown",
   "id": "2bb36ab4",
   "metadata": {},
   "source": [
    "#### solution function"
   ]
  },
  {
   "cell_type": "code",
   "execution_count": 12,
   "id": "f141e194",
   "metadata": {},
   "outputs": [],
   "source": [
    "class Solution:\n",
    "    def longestCommonPrefix(self, strs: list[str]) -> str:\n",
    "        \n",
    "        # edge \n",
    "        if len(strs) == 0:\n",
    "            return ''\n",
    "        \n",
    "        # initialise the result string\n",
    "        res_str = \"\"\n",
    "        \n",
    "        for i in range(len(min(strs))):\n",
    "            current_char = strs[0][i]\n",
    "            if all(current_char == s[i] for s in strs[1: ]):\n",
    "                res_str += current_char\n",
    "            else:\n",
    "                break\n",
    "        \n",
    "        return  res_str        "
   ]
  },
  {
   "cell_type": "markdown",
   "id": "e2db932e",
   "metadata": {},
   "source": [
    "#### Time Complexity analysis: O(len(strs) * len(min(strs)))"
   ]
  },
  {
   "cell_type": "markdown",
   "id": "4f691433",
   "metadata": {},
   "source": [
    "#### Space Complexity: O(len(min(strs)))"
   ]
  },
  {
   "cell_type": "code",
   "execution_count": null,
   "id": "e2f2d20d",
   "metadata": {},
   "outputs": [],
   "source": []
  }
 ],
 "metadata": {
  "kernelspec": {
   "display_name": "Python 3 (ipykernel)",
   "language": "python",
   "name": "python3"
  },
  "language_info": {
   "codemirror_mode": {
    "name": "ipython",
    "version": 3
   },
   "file_extension": ".py",
   "mimetype": "text/x-python",
   "name": "python",
   "nbconvert_exporter": "python",
   "pygments_lexer": "ipython3",
   "version": "3.9.10"
  }
 },
 "nbformat": 4,
 "nbformat_minor": 5
}
