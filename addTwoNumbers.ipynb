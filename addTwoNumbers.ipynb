{
 "cells": [
  {
   "cell_type": "markdown",
   "id": "1ed0b6ad",
   "metadata": {},
   "source": [
    "## Problem 2 Add Two Numbers\n",
    "\n",
    "### You are given two non-empty linked lists representing two non-negative integers.\n",
    "### The digits are stored in reversed order, and each of their nodes contains a single digits.\n",
    "### Add the two numbers and return the sum as a linked list"
   ]
  },
  {
   "cell_type": "markdown",
   "id": "0abad54b",
   "metadata": {},
   "source": [
    "### example:\n",
    "\n",
    "### Input: l1 = [2, 4, 3], l2 = [5, 6, 4]\n",
    "\n",
    "### Output: 342 + 465 = 807"
   ]
  },
  {
   "cell_type": "code",
   "execution_count": 1,
   "id": "6e733d8d",
   "metadata": {},
   "outputs": [],
   "source": [
    "class ListNode:\n",
    "    def __init__(self, val=0, next=None):\n",
    "        self.val = val\n",
    "        self.next = next"
   ]
  },
  {
   "cell_type": "markdown",
   "id": "a09278c3",
   "metadata": {},
   "source": [
    "### Solution 1: Basic Math "
   ]
  },
  {
   "cell_type": "code",
   "execution_count": 10,
   "id": "7081163f",
   "metadata": {},
   "outputs": [],
   "source": [
    "class Solution:\n",
    "    def addTwoNumbers(self, l1: ListNode, l2: ListNode) -> ListNode:\n",
    "        \n",
    "        # intialise the returning list with 0 as head node \n",
    "        result = ListNode(0)\n",
    "        result_tail = result\n",
    "       \n",
    "        # initialise the carrry\n",
    "        carry = 0\n",
    "        \n",
    "        # loop through the lists l1 and l2 until reaching both ends\n",
    "        while l1 or l2 or carry:\n",
    "            if l1:\n",
    "                val1 = l1.val\n",
    "            else:\n",
    "                val1 = 0\n",
    "            if l2:\n",
    "                val2 = l2.val\n",
    "            else:\n",
    "                val2 = 0\n",
    "            carry, out = divmod(val1 + val2 + carry, 10)\n",
    "            \n",
    "            result_tail.next = ListNode(out)\n",
    "            result_tail = result_tail.next\n",
    "            \n",
    "            if l1:\n",
    "                l1 = l1.next\n",
    "            else:\n",
    "                l1 = None\n",
    "            if l2:\n",
    "                l2 = l2.next\n",
    "            else:\n",
    "                l2 = None\n",
    "        \n",
    "        return result.next"
   ]
  },
  {
   "cell_type": "code",
   "execution_count": 11,
   "id": "d8aaf3d9",
   "metadata": {},
   "outputs": [],
   "source": [
    "sample = Solution()"
   ]
  },
  {
   "cell_type": "code",
   "execution_count": null,
   "id": "a98851ca",
   "metadata": {},
   "outputs": [],
   "source": []
  }
 ],
 "metadata": {
  "kernelspec": {
   "display_name": "Python 3 (ipykernel)",
   "language": "python",
   "name": "python3"
  },
  "language_info": {
   "codemirror_mode": {
    "name": "ipython",
    "version": 3
   },
   "file_extension": ".py",
   "mimetype": "text/x-python",
   "name": "python",
   "nbconvert_exporter": "python",
   "pygments_lexer": "ipython3",
   "version": "3.9.10"
  }
 },
 "nbformat": 4,
 "nbformat_minor": 5
}
