{
 "cells": [
  {
   "cell_type": "markdown",
   "id": "267eaa4b",
   "metadata": {},
   "source": [
    "## Question 15: 3 Sum"
   ]
  },
  {
   "cell_type": "markdown",
   "id": "5b2d1b0e",
   "metadata": {},
   "source": [
    "### Description"
   ]
  },
  {
   "cell_type": "code",
   "execution_count": 1,
   "id": "420d4682",
   "metadata": {},
   "outputs": [
    {
     "data": {
      "text/plain": [
       "'\\nGive an integer array nums, return all the triplets [nums[i], nums[j], nums[k]] such that\\ni != j, i != k, and j != k, and nums[i] + nums[j] + nums[k] == 0.\\n\\nNotice that the solution set must not contain duplicate triplets.\\n'"
      ]
     },
     "execution_count": 1,
     "metadata": {},
     "output_type": "execute_result"
    }
   ],
   "source": [
    "\"\"\"\n",
    "Give an integer array nums, return all the triplets [nums[i], nums[j], nums[k]] such that\n",
    "i != j, i != k, and j != k, and nums[i] + nums[j] + nums[k] == 0.\n",
    "\n",
    "Notice that the solution set must not contain duplicate triplets.\n",
    "\"\"\""
   ]
  },
  {
   "cell_type": "markdown",
   "id": "9c9c42dd",
   "metadata": {},
   "source": [
    "### Example 1"
   ]
  },
  {
   "cell_type": "code",
   "execution_count": 2,
   "id": "a394737c",
   "metadata": {},
   "outputs": [
    {
     "data": {
      "text/plain": [
       "'\\nInput: nums = [-1, 0, 1, 2, -1, -4]\\nOutput: [[-1, -1, 2], [-1, 0, 1]]\\n'"
      ]
     },
     "execution_count": 2,
     "metadata": {},
     "output_type": "execute_result"
    }
   ],
   "source": [
    "\"\"\"\n",
    "Input: nums = [-1, 0, 1, 2, -1, -4]\n",
    "Output: [[-1, -1, 2], [-1, 0, 1]]\n",
    "\"\"\""
   ]
  },
  {
   "cell_type": "markdown",
   "id": "51406604",
   "metadata": {},
   "source": [
    "### Example 2"
   ]
  },
  {
   "cell_type": "code",
   "execution_count": 3,
   "id": "4e3db18e",
   "metadata": {},
   "outputs": [
    {
     "data": {
      "text/plain": [
       "'\\nInput: nums = []\\nOutput: []\\n'"
      ]
     },
     "execution_count": 3,
     "metadata": {},
     "output_type": "execute_result"
    }
   ],
   "source": [
    "\"\"\"\n",
    "Input: nums = []\n",
    "Output: []\n",
    "\"\"\""
   ]
  },
  {
   "cell_type": "markdown",
   "id": "6b271c89",
   "metadata": {},
   "source": [
    "### Example 3"
   ]
  },
  {
   "cell_type": "code",
   "execution_count": 4,
   "id": "fc26145e",
   "metadata": {},
   "outputs": [
    {
     "data": {
      "text/plain": [
       "'\\nInput: nums = [0]\\nOutput: []\\n'"
      ]
     },
     "execution_count": 4,
     "metadata": {},
     "output_type": "execute_result"
    }
   ],
   "source": [
    "\"\"\"\n",
    "Input: nums = [0]\n",
    "Output: []\n",
    "\"\"\""
   ]
  },
  {
   "cell_type": "markdown",
   "id": "725f8fc0",
   "metadata": {},
   "source": [
    "### Solution: Complement search by Hash"
   ]
  },
  {
   "cell_type": "markdown",
   "id": "aa70d5da",
   "metadata": {},
   "source": [
    "#### initialise the input array"
   ]
  },
  {
   "cell_type": "code",
   "execution_count": 5,
   "id": "e817f502",
   "metadata": {},
   "outputs": [],
   "source": [
    "nums = [-1, 0, 1, 2, -1, -4]"
   ]
  },
  {
   "cell_type": "markdown",
   "id": "067463e2",
   "metadata": {},
   "source": [
    "#### method "
   ]
  },
  {
   "cell_type": "code",
   "execution_count": 3,
   "id": "de86f723",
   "metadata": {},
   "outputs": [
    {
     "data": {
      "text/plain": [
       "'\\nmain function\\n. initialise the result list as empty list\\n. Sort the input array nums\\n. for each element of the array\\n    . if it is larger than 0, \\n         . break\\n    . if it is the same as the one before it\\n         . continue to skip\\n    . run the defined twoSum for the current position\\n. return the result list\\n\\ndefined twoSum function\\n\\n. initialise a set for storting the possible result\\n. for each index j > i in the array nums\\n    . compute the complement (0 - nums[i] - nums[j])\\n    . if the complement exists in the hashset\\n         . one result is found, store a list consisting of nums[i], nums[j] and the complement into the result list\\n         . if nums[j]  == num[j + 1], here the edge condition should be considered (j + 1 < len(nums))\\n             . increment j (to avoid the same result set to be stored)\\n    . store nums[j] into the hashset\\n    . increment j        \\n'"
      ]
     },
     "execution_count": 3,
     "metadata": {},
     "output_type": "execute_result"
    }
   ],
   "source": [
    "\"\"\"\n",
    "main function\n",
    ". initialise the result list as empty list\n",
    ". Sort the input array nums\n",
    ". for each element of the array\n",
    "    . if it is larger than 0, \n",
    "         . break\n",
    "    . if it is the same as the one before it\n",
    "         . continue to skip\n",
    "    . run the defined twoSum for the current position\n",
    ". return the result list\n",
    "\n",
    "defined twoSum function\n",
    "\n",
    ". initialise a set for storting the possible result\n",
    ". for each index j > i in the array nums\n",
    "    . compute the complement (0 - nums[i] - nums[j])\n",
    "    . if the complement exists in the hashset\n",
    "         . one result is found, store a list consisting of nums[i], nums[j] and the complement into the result list\n",
    "         . if nums[j]  == num[j + 1], here the edge condition should be considered (j + 1 < len(nums))\n",
    "             . increment j (to avoid the same result set to be stored)\n",
    "    . store nums[j] into the hashset\n",
    "    . increment j        \n",
    "\"\"\""
   ]
  },
  {
   "cell_type": "markdown",
   "id": "58153029",
   "metadata": {},
   "source": [
    "#### Solution Function"
   ]
  },
  {
   "cell_type": "code",
   "execution_count": 6,
   "id": "50a2d3a0",
   "metadata": {},
   "outputs": [],
   "source": [
    "class Solution:\n",
    "    def threeSum(self, nums: list[int]) -> list[list[int]]:\n",
    "        \n",
    "        # initlialise the result list\n",
    "        result_list = []\n",
    "        \n",
    "        # sort the input array\n",
    "        nums.sort()\n",
    "        \n",
    "        # iterate the nums\n",
    "        for i in range(len(nums)):\n",
    "            \n",
    "            # larger than 0, break\n",
    "            if nums[i] > 0:\n",
    "                break\n",
    "            \n",
    "            # skip the same heading value\n",
    "            if i > 0 and nums[i] == nums[i - 1]:\n",
    "                continue\n",
    "            \n",
    "            # run the defined twoSum function\n",
    "            self.twoSum(nums, i, result_list)\n",
    "        \n",
    "        # return the result list\n",
    "        return result_list\n",
    "    \n",
    "    def twoSum(self, nums: list[list], i: int, result_list: list[list[int]]):\n",
    "        \n",
    "        # initialse the hashset\n",
    "        hashset = set()\n",
    "        \n",
    "        # for each index j > i, iterate the array\n",
    "        j = i + 1\n",
    "        while j < len(nums):\n",
    "            \n",
    "            # compute the complement\n",
    "            complement = 0 - nums[i] - nums[j]\n",
    "            \n",
    "            # if the the complement exist in the hashset\n",
    "            if complement in hashset:\n",
    "                \n",
    "                # a result set found \n",
    "                result_list.append([nums[i], nums[j], complement])\n",
    "                \n",
    "                # check the next j\n",
    "                while j + 1 < len(nums) and nums[j]  == nums[j + 1]:\n",
    "                    j += 1\n",
    "                \n",
    "            # update the hashset\n",
    "            hashset.add(nums[j])\n",
    "            # update j\n",
    "            j += 1\n",
    "                "
   ]
  },
  {
   "cell_type": "markdown",
   "id": "beb926f8",
   "metadata": {},
   "source": [
    "#### Time Complexity analysis"
   ]
  },
  {
   "cell_type": "code",
   "execution_count": 7,
   "id": "fd1b2058",
   "metadata": {},
   "outputs": [
    {
     "data": {
      "text/plain": [
       "'\\n. for N = len(nums)\\n. sorting the nums array runs O(N*logN)\\n. The defined twoSum() function runs O(N) time \\n. The main function runs N times twoSums()\\n. Therefore, the Time Complexity for this algorithm is O(N*logN + N**2)\\n'"
      ]
     },
     "execution_count": 7,
     "metadata": {},
     "output_type": "execute_result"
    }
   ],
   "source": [
    "\"\"\"\n",
    ". for N = len(nums)\n",
    ". sorting the nums array runs O(N*logN)\n",
    ". The defined twoSum() function runs O(N) time \n",
    ". The main function runs N times twoSums()\n",
    ". Therefore, the Time Complexity for this algorithm is O(N*logN + N**2)\n",
    "\"\"\""
   ]
  },
  {
   "cell_type": "markdown",
   "id": "138c85f2",
   "metadata": {},
   "source": [
    "#### Space Complexity analysis"
   ]
  },
  {
   "cell_type": "code",
   "execution_count": 8,
   "id": "684f258f",
   "metadata": {},
   "outputs": [
    {
     "data": {
      "text/plain": [
       "'\\nhashset: O(N)\\n'"
      ]
     },
     "execution_count": 8,
     "metadata": {},
     "output_type": "execute_result"
    }
   ],
   "source": [
    "\"\"\"\n",
    "hashset: O(N)\n",
    "\"\"\""
   ]
  },
  {
   "cell_type": "code",
   "execution_count": null,
   "id": "a3d7fa17",
   "metadata": {},
   "outputs": [],
   "source": []
  }
 ],
 "metadata": {
  "kernelspec": {
   "display_name": "Python 3 (ipykernel)",
   "language": "python",
   "name": "python3"
  },
  "language_info": {
   "codemirror_mode": {
    "name": "ipython",
    "version": 3
   },
   "file_extension": ".py",
   "mimetype": "text/x-python",
   "name": "python",
   "nbconvert_exporter": "python",
   "pygments_lexer": "ipython3",
   "version": "3.9.12"
  }
 },
 "nbformat": 4,
 "nbformat_minor": 5
}
