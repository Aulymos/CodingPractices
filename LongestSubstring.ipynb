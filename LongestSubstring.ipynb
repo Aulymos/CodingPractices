{
 "cells": [
  {
   "cell_type": "markdown",
   "id": "a1e2ea1f",
   "metadata": {},
   "source": [
    "## Question 3: Longest Substring without Repeating Characters"
   ]
  },
  {
   "cell_type": "markdown",
   "id": "318474b9",
   "metadata": {},
   "source": [
    "### Given a string s, find the length of the longest substring without repeating characters"
   ]
  },
  {
   "cell_type": "markdown",
   "id": "fc1466f9",
   "metadata": {},
   "source": [
    "### example:\n",
    "### Input: s = \"abcabcbb\"\n",
    "### output: 3"
   ]
  },
  {
   "cell_type": "markdown",
   "id": "493f0248",
   "metadata": {},
   "source": [
    "### Solution 1: Brute Force "
   ]
  },
  {
   "cell_type": "code",
   "execution_count": 1,
   "id": "5e93d0e8",
   "metadata": {
    "collapsed": true
   },
   "outputs": [],
   "source": [
    "class Solution_1:\n",
    "    def lengthOfLongestSubstring(self, s: str) -> int:\n",
    "        \n",
    "        if s == \"\":\n",
    "            return 0\n",
    "        \n",
    "        maximum_length = 1\n",
    "        \n",
    "        for i in range(len(s)):\n",
    "            \n",
    "            current_substr = s[i]\n",
    "            \n",
    "            for j in range(i+1, len(s)):\n",
    "               \n",
    "                if s[j] in current_substr:\n",
    "                    break\n",
    "                else:\n",
    "                    current_substr += s[j]\n",
    "            \n",
    "            maximum_length = max(maximum_length, len(current_substr))\n",
    "        \n",
    "        return maximum_length"
   ]
  },
  {
   "cell_type": "markdown",
   "id": "863145e1",
   "metadata": {},
   "source": [
    "### Solution 2: Jump "
   ]
  },
  {
   "cell_type": "code",
   "execution_count": null,
   "id": "d11696ba",
   "metadata": {},
   "outputs": [],
   "source": [
    "class Solution_2:\n",
    "    def lengthOfLongestSubstring(self, s: str) -> int:\n",
    "        \n",
    "        maximum_length = 0\n",
    "        current_substr = ''\n",
    "        current_length = 0\n",
    "        \n",
    "        for char in s:\n",
    "            \n",
    "            if char in current_substr:\n",
    "                current_substr += char\n",
    "                current_substr = current_substr[current_substr.index(char) + 1:]\n",
    "                current_length = len(current_substr)\n",
    "            else:\n",
    "                current_length += 1\n",
    "                current_substr += char\n",
    "            \n",
    "            maximum_length = max(maximum_length, current_length)\n",
    "        \n",
    "        return maximum_length\n",
    "                "
   ]
  },
  {
   "cell_type": "markdown",
   "id": "ed877c6c",
   "metadata": {},
   "source": [
    "### Solution 3: sliding window with hash map "
   ]
  },
  {
   "cell_type": "code",
   "execution_count": null,
   "id": "66a3cb79",
   "metadata": {},
   "outputs": [],
   "source": [
    "class Solution_3:\n",
    "    def lengthOfLongestSubstring(self, s: str) -> int:\n",
    "        \n",
    "        maximum_length = 0\n",
    "        hash_map = {}\n",
    "        head_index = 0\n",
    "        \n",
    "        for tail_index in range(len(s)):\n",
    "            \n",
    "            if s[tail_index] in hash_map:\n",
    "                head_index = max(hash_map[s[tail_index]] + 1, head_index)\n",
    "            \n",
    "            maximum_length = max(maximum_length, tail_index - head_index + 1)\n",
    "            hash_map[s[tail_index]] = tail_index\n",
    "        \n",
    "        return maximum_length\n",
    "        "
   ]
  }
 ],
 "metadata": {
  "kernelspec": {
   "display_name": "Python 3 (ipykernel)",
   "language": "python",
   "name": "python3"
  },
  "language_info": {
   "codemirror_mode": {
    "name": "ipython",
    "version": 3
   },
   "file_extension": ".py",
   "mimetype": "text/x-python",
   "name": "python",
   "nbconvert_exporter": "python",
   "pygments_lexer": "ipython3",
   "version": "3.9.10"
  }
 },
 "nbformat": 4,
 "nbformat_minor": 5
}
