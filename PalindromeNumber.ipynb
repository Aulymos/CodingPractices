{
 "cells": [
  {
   "cell_type": "markdown",
   "id": "903d4acc",
   "metadata": {},
   "source": [
    "## Question 9: Palindrome Number"
   ]
  },
  {
   "cell_type": "markdown",
   "id": "7f82da3f",
   "metadata": {},
   "source": [
    "### Given an integer x, return true if x is palindrome integer"
   ]
  },
  {
   "cell_type": "markdown",
   "id": "064a4d9b",
   "metadata": {},
   "source": [
    "### example 1:\n",
    "### Input: x = 121\n",
    "### Output: true"
   ]
  },
  {
   "cell_type": "markdown",
   "id": "e78826b5",
   "metadata": {},
   "source": [
    "### example 2: \n",
    "### Input: x = -121\n",
    "### Output: False"
   ]
  },
  {
   "cell_type": "markdown",
   "id": "706dbafd",
   "metadata": {},
   "source": [
    "### example 3: \n",
    "### Input: x = 10\n",
    "### Output: False"
   ]
  },
  {
   "cell_type": "markdown",
   "id": "101c3ad7",
   "metadata": {},
   "source": [
    "### Solution 1: convert to string then check the reversed "
   ]
  },
  {
   "cell_type": "code",
   "execution_count": 1,
   "id": "3c1f1e75",
   "metadata": {},
   "outputs": [],
   "source": [
    "class Solution1:\n",
    "    def isPalindrome(self, x: int) -> bool:\n",
    "        \n",
    "        if str(x) == str(x)[::-1]:\n",
    "            return True\n",
    "        else:\n",
    "            return False"
   ]
  },
  {
   "cell_type": "markdown",
   "id": "5de1278a",
   "metadata": {},
   "source": [
    "### Solution 2: going through digits without converting the input integer into string"
   ]
  },
  {
   "cell_type": "markdown",
   "id": "fab08fdd",
   "metadata": {},
   "source": [
    "#### initialise"
   ]
  },
  {
   "cell_type": "code",
   "execution_count": 5,
   "id": "e18b13fe",
   "metadata": {},
   "outputs": [],
   "source": [
    "x = 121"
   ]
  },
  {
   "cell_type": "markdown",
   "id": "911f25ef",
   "metadata": {},
   "source": [
    "#### consider the sign"
   ]
  },
  {
   "cell_type": "code",
   "execution_count": 7,
   "id": "97e7fe51",
   "metadata": {},
   "outputs": [],
   "source": [
    "if x < 0:\n",
    "    res = False"
   ]
  },
  {
   "cell_type": "markdown",
   "id": "919b4c57",
   "metadata": {},
   "source": [
    "#### consider the multiples of ten "
   ]
  },
  {
   "cell_type": "code",
   "execution_count": 9,
   "id": "5fd8917e",
   "metadata": {},
   "outputs": [],
   "source": [
    "if x % 10 == 0 and x != 0:\n",
    "    res = False"
   ]
  },
  {
   "cell_type": "markdown",
   "id": "654bcf9c",
   "metadata": {},
   "source": [
    "#### initialise the reversed number"
   ]
  },
  {
   "cell_type": "code",
   "execution_count": 10,
   "id": "3051815a",
   "metadata": {},
   "outputs": [],
   "source": [
    "reversed_num = 0"
   ]
  },
  {
   "cell_type": "markdown",
   "id": "8382441a",
   "metadata": {},
   "source": [
    "#### loop"
   ]
  },
  {
   "cell_type": "code",
   "execution_count": 11,
   "id": "318f4b27",
   "metadata": {},
   "outputs": [],
   "source": [
    "while x > reversed_num:\n",
    "    reversed_num = reversed_num * 10 + x % 10\n",
    "    x /= 10"
   ]
  },
  {
   "cell_type": "code",
   "execution_count": 12,
   "id": "7385885e",
   "metadata": {},
   "outputs": [],
   "source": [
    "if x == reversed_num or x == reversed_num / 10:\n",
    "    res = True\n",
    "else:\n",
    "    res = False"
   ]
  },
  {
   "cell_type": "code",
   "execution_count": 13,
   "id": "a743e884",
   "metadata": {},
   "outputs": [
    {
     "data": {
      "text/plain": [
       "True"
      ]
     },
     "execution_count": 13,
     "metadata": {},
     "output_type": "execute_result"
    }
   ],
   "source": [
    "res"
   ]
  },
  {
   "cell_type": "markdown",
   "id": "bf9ee7cc",
   "metadata": {},
   "source": [
    "#### Solution class"
   ]
  },
  {
   "cell_type": "code",
   "execution_count": 14,
   "id": "141a9486",
   "metadata": {},
   "outputs": [],
   "source": [
    "class Solution:\n",
    "    def isPalindrome(self, x: int) -> bool:\n",
    "        \n",
    "        # edge cases\n",
    "        if x < 0 or (x % 10 == 0 and x != 0):\n",
    "            return False\n",
    "        \n",
    "        # initialise the parameter of reversed number\n",
    "        reversed_num = 0\n",
    "        \n",
    "        # loop \n",
    "        while x > reversed_num:\n",
    "            reversed_num = reversed_num * 10 + x % 10\n",
    "            x //= 10\n",
    "        \n",
    "        # determine the result\n",
    "        if x == reversed_num or x == reversed_num // 10:\n",
    "            return True\n",
    "        else:\n",
    "            return False"
   ]
  },
  {
   "cell_type": "code",
   "execution_count": 15,
   "id": "ba18be4a",
   "metadata": {},
   "outputs": [
    {
     "data": {
      "text/plain": [
       "1.1"
      ]
     },
     "execution_count": 15,
     "metadata": {},
     "output_type": "execute_result"
    }
   ],
   "source": [
    "11 / 10"
   ]
  },
  {
   "cell_type": "code",
   "execution_count": null,
   "id": "56e86e3c",
   "metadata": {},
   "outputs": [],
   "source": []
  }
 ],
 "metadata": {
  "kernelspec": {
   "display_name": "Python 3 (ipykernel)",
   "language": "python",
   "name": "python3"
  },
  "language_info": {
   "codemirror_mode": {
    "name": "ipython",
    "version": 3
   },
   "file_extension": ".py",
   "mimetype": "text/x-python",
   "name": "python",
   "nbconvert_exporter": "python",
   "pygments_lexer": "ipython3",
   "version": "3.9.10"
  }
 },
 "nbformat": 4,
 "nbformat_minor": 5
}
