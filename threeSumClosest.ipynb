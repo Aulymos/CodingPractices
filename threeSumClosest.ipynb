{
 "cells": [
  {
   "cell_type": "markdown",
   "id": "14a1ef17",
   "metadata": {},
   "source": [
    "## Question 16: Three Sum Closest"
   ]
  },
  {
   "cell_type": "markdown",
   "id": "97209182",
   "metadata": {},
   "source": [
    "### Description"
   ]
  },
  {
   "cell_type": "code",
   "execution_count": 1,
   "id": "9cd225e7",
   "metadata": {},
   "outputs": [
    {
     "data": {
      "text/plain": [
       "'\\nGiven an integer array nums of length n and an integer target, find three integers in nums such that\\nthe sum is closest to target.\\n\\nReturn the sum of the three integers.\\n\\nYou may assume that each input would have exactly one solution.\\n'"
      ]
     },
     "execution_count": 1,
     "metadata": {},
     "output_type": "execute_result"
    }
   ],
   "source": [
    "\"\"\"\n",
    "Given an integer array nums of length n and an integer target, find three integers in nums such that\n",
    "the sum is closest to target.\n",
    "\n",
    "Return the sum of the three integers.\n",
    "\n",
    "You may assume that each input would have exactly one solution.\n",
    "\"\"\""
   ]
  },
  {
   "cell_type": "markdown",
   "id": "29ba98fe",
   "metadata": {},
   "source": [
    "### Example 1"
   ]
  },
  {
   "cell_type": "code",
   "execution_count": 2,
   "id": "c2eff415",
   "metadata": {},
   "outputs": [
    {
     "data": {
      "text/plain": [
       "'\\nInput: nums = [-1, 2, 1, -4], target = 1\\nOutput: 2\\nExplanation: The sum that is closest to the target is 2. (-1 + 2 + 1 = 2).\\n'"
      ]
     },
     "execution_count": 2,
     "metadata": {},
     "output_type": "execute_result"
    }
   ],
   "source": [
    "\"\"\"\n",
    "Input: nums = [-1, 2, 1, -4], target = 1\n",
    "Output: 2\n",
    "Explanation: The sum that is closest to the target is 2. (-1 + 2 + 1 = 2).\n",
    "\"\"\""
   ]
  },
  {
   "cell_type": "markdown",
   "id": "dd327c83",
   "metadata": {},
   "source": [
    "### Example 2"
   ]
  },
  {
   "cell_type": "code",
   "execution_count": 3,
   "id": "39edf952",
   "metadata": {},
   "outputs": [
    {
     "data": {
      "text/plain": [
       "'\\nInput: nums = [0, 0, 0], target = 1\\nOutput: 0\\n'"
      ]
     },
     "execution_count": 3,
     "metadata": {},
     "output_type": "execute_result"
    }
   ],
   "source": [
    "\"\"\"\n",
    "Input: nums = [0, 0, 0], target = 1\n",
    "Output: 0\n",
    "\"\"\""
   ]
  },
  {
   "cell_type": "markdown",
   "id": "b7ff9a76",
   "metadata": {},
   "source": [
    "### Solution: Two Pointers"
   ]
  },
  {
   "cell_type": "markdown",
   "id": "cf571ed7",
   "metadata": {},
   "source": [
    "#### initialise the input array"
   ]
  },
  {
   "cell_type": "code",
   "execution_count": 4,
   "id": "e77ec43e",
   "metadata": {},
   "outputs": [],
   "source": [
    "nums = [-1, 2, 1, -4]"
   ]
  },
  {
   "cell_type": "markdown",
   "id": "7935bace",
   "metadata": {},
   "source": [
    "#### Algorithm pseudocode"
   ]
  },
  {
   "cell_type": "code",
   "execution_count": 6,
   "id": "4c21954e",
   "metadata": {},
   "outputs": [
    {
     "data": {
      "text/plain": [
       "'\\n. initialise the difference between the sum of the three integers and the target as a large number \"infinite number\" - diff.\\n. sort the array nums\\n. iterate through the array\\n    . for the current position i, set lower_bound to i + 1, and higher_bound to the last index (len(nums) - 1).\\n        . while the lower_bound is smaller than higher_bound\\n            . if the absolute difference between sum and target is smaller than the current absolute value of diff\\n                . set diff to target - sum\\n            . if sum is less than target, \\n                . increment the lower_bound\\n            . if sum is larger than target\\n                . decrement the higher_bound\\n        . if diff == 0\\n            . break from the interation \\n. return the (target - diff)\\n'"
      ]
     },
     "execution_count": 6,
     "metadata": {},
     "output_type": "execute_result"
    }
   ],
   "source": [
    "\"\"\"\n",
    ". initialise the difference between the sum of the three integers and the target as a large number \"infinite number\" - diff.\n",
    ". sort the array nums\n",
    ". iterate through the array\n",
    "    . for the current position i, set lower_bound to i + 1, and higher_bound to the last index (len(nums) - 1).\n",
    "        . while the lower_bound is smaller than higher_bound\n",
    "            . if the absolute difference between sum and target is smaller than the current absolute value of diff\n",
    "                . set diff to target - sum\n",
    "            . if sum is less than target, \n",
    "                . increment the lower_bound\n",
    "            . if sum is larger than target\n",
    "                . decrement the higher_bound\n",
    "        . if diff == 0\n",
    "            . break from the interation \n",
    ". return the (target - diff)\n",
    "\"\"\""
   ]
  },
  {
   "cell_type": "markdown",
   "id": "3a0bb256",
   "metadata": {},
   "source": [
    "#### solution function"
   ]
  },
  {
   "cell_type": "code",
   "execution_count": 7,
   "id": "22210892",
   "metadata": {},
   "outputs": [],
   "source": [
    "class Solution:\n",
    "    def threeSumClosest(self, nums: list[int], target: int) -> int:\n",
    "        \n",
    "        # initialise the diff as a large number\n",
    "        diff = float('inf')\n",
    "        \n",
    "        # sort the array\n",
    "        nums.sort()\n",
    "        \n",
    "        # iterate the array\n",
    "        for i in range(len(nums)):\n",
    "            \n",
    "            # set lower_bound and higher_bound\n",
    "            lower_bound, higher_bound = i + 1, len(nums) - 1\n",
    "            \n",
    "            # while lower_bound is smaller than higher_bound\n",
    "            while lower_bound < higher_bound:\n",
    "                \n",
    "                sum = nums[i] + nums[lower_bound] + nums[higher_bound]\n",
    "                \n",
    "                if abs(sum - target) < abs(diff):\n",
    "                    diff = target - sum\n",
    "                    \n",
    "                if sum < target:\n",
    "                    lower_bound += 1\n",
    "                else: \n",
    "                    higher_bound -= 1\n",
    "            \n",
    "            if diff == 0:\n",
    "                break\n",
    "        \n",
    "        return target - diff "
   ]
  },
  {
   "cell_type": "markdown",
   "id": "92eaba82",
   "metadata": {},
   "source": [
    "#### Time complexity analysis"
   ]
  },
  {
   "cell_type": "code",
   "execution_count": 9,
   "id": "82c82a42",
   "metadata": {},
   "outputs": [
    {
     "data": {
      "text/plain": [
       "'\\n. There are two loops, so the time complexity is O(n**2)\\n. sorting takes O(n logn)\\n. The overall time complexity O(nlogn + n**2), which can be equivalent to O(n**2)\\n'"
      ]
     },
     "execution_count": 9,
     "metadata": {},
     "output_type": "execute_result"
    }
   ],
   "source": [
    "\"\"\"\n",
    ". There are two loops, so the time complexity is O(n**2)\n",
    ". sorting takes O(n logn)\n",
    ". The overall time complexity O(nlogn + n**2), which can be equivalent to O(n**2)\n",
    "\"\"\""
   ]
  },
  {
   "cell_type": "markdown",
   "id": "58efbd05",
   "metadata": {},
   "source": [
    "#### Space Complexity"
   ]
  },
  {
   "cell_type": "code",
   "execution_count": 10,
   "id": "56a489f7",
   "metadata": {},
   "outputs": [
    {
     "data": {
      "text/plain": [
       "'\\nfrom O(log n) to O(n), which depends on the sorting algorithm \\n'"
      ]
     },
     "execution_count": 10,
     "metadata": {},
     "output_type": "execute_result"
    }
   ],
   "source": [
    "\"\"\"\n",
    "from O(log n) to O(n), which depends on the sorting algorithm \n",
    "\"\"\""
   ]
  }
 ],
 "metadata": {
  "kernelspec": {
   "display_name": "Python 3 (ipykernel)",
   "language": "python",
   "name": "python3"
  },
  "language_info": {
   "codemirror_mode": {
    "name": "ipython",
    "version": 3
   },
   "file_extension": ".py",
   "mimetype": "text/x-python",
   "name": "python",
   "nbconvert_exporter": "python",
   "pygments_lexer": "ipython3",
   "version": "3.9.12"
  }
 },
 "nbformat": 4,
 "nbformat_minor": 5
}
