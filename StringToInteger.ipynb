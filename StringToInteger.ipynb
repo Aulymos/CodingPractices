{
 "cells": [
  {
   "cell_type": "markdown",
   "id": "1fec03d8",
   "metadata": {},
   "source": [
    "## Question 8: String to Integer"
   ]
  },
  {
   "cell_type": "markdown",
   "id": "d6105fc2",
   "metadata": {},
   "source": [
    "### Implement the myAtoi(string s) function, which converts a string to a 32-bit signed integer (similar to C/C++'s atoi function)"
   ]
  },
  {
   "cell_type": "markdown",
   "id": "586269cf",
   "metadata": {},
   "source": [
    "### algorithm description"
   ]
  },
  {
   "cell_type": "code",
   "execution_count": 1,
   "id": "94f9faf0",
   "metadata": {
    "collapsed": true
   },
   "outputs": [
    {
     "data": {
      "text/plain": [
       "'\\n1. Read in and ignore any leading whitespace.\\n2. Check if the next character (if not already at the end of the string) is \\'-\\' or \\'+\\'.\\n   Read this character in if it is either. This determines if the final result is negative or positive respectively.\\n   Assume the result is positive if neither is present.\\n3. Read in next the characters until the next non-digit character or the end of the input is reached. \\n   The rest of the string is ignored.\\n4. Convert these digits into an integer (i.e. \"123\" -> 123).\\n   if no digits were read, then the integer is 0. Change the sign as necessary (from step 2).\\n5. If the integer is out of the 32-bit signed integer range [-2^31, 2^31 - 1], then\\n   clamp the integr so that it remains in the range.\\n6. Return the integer as the final result.\\n'"
      ]
     },
     "execution_count": 1,
     "metadata": {},
     "output_type": "execute_result"
    }
   ],
   "source": [
    "\"\"\"\n",
    "1. Read in and ignore any leading whitespace.\n",
    "2. Check if the next character (if not already at the end of the string) is '-' or '+'.\n",
    "   Read this character in if it is either. This determines if the final result is negative or positive respectively.\n",
    "   Assume the result is positive if neither is present.\n",
    "3. Read in next the characters until the next non-digit character or the end of the input is reached. \n",
    "   The rest of the string is ignored.\n",
    "4. Convert these digits into an integer (i.e. \"123\" -> 123).\n",
    "   if no digits were read, then the integer is 0. Change the sign as necessary (from step 2).\n",
    "5. If the integer is out of the 32-bit signed integer range [-2^31, 2^31 - 1], then\n",
    "   clamp the integr so that it remains in the range.\n",
    "6. Return the integer as the final result.\n",
    "\"\"\""
   ]
  },
  {
   "cell_type": "markdown",
   "id": "7ab3f47d",
   "metadata": {},
   "source": [
    "#### 1. ignore whitespace"
   ]
  },
  {
   "cell_type": "code",
   "execution_count": 22,
   "id": "11a437dd",
   "metadata": {},
   "outputs": [],
   "source": [
    "s = \"words and 987\""
   ]
  },
  {
   "cell_type": "code",
   "execution_count": 23,
   "id": "9636b7ae",
   "metadata": {},
   "outputs": [
    {
     "name": "stdout",
     "output_type": "stream",
     "text": [
      "words and 987\n"
     ]
    }
   ],
   "source": [
    "for i in range(len(s)):\n",
    "    if s[i] == ' ':\n",
    "        continue\n",
    "    else:\n",
    "        s = s[i:]\n",
    "        break\n",
    "\n",
    "print(s)"
   ]
  },
  {
   "cell_type": "markdown",
   "id": "0b216800",
   "metadata": {},
   "source": [
    "#### 2 and 3. read the digits with sign of '+' or '-' "
   ]
  },
  {
   "cell_type": "code",
   "execution_count": 29,
   "id": "facbc3c9",
   "metadata": {},
   "outputs": [
    {
     "name": "stdout",
     "output_type": "stream",
     "text": [
      "\n"
     ]
    }
   ],
   "source": [
    "s = 'abce +457'\n",
    "\n",
    "num_str = ''\n",
    "\n",
    "if not s[0].isdigit():\n",
    "    if s[0] != '+' or '-':\n",
    "        res = 0\n",
    "\n",
    "for i in range (len(s) - 1):\n",
    "    if s[i] == '+' or s[i] == '-':\n",
    "        if s[i + 1].isdigit():\n",
    "            num_str += s[i]\n",
    "    elif not s[i].isdigit():\n",
    "\n",
    "        break\n",
    "    elif s[i].isdigit():\n",
    "        num_str += s[i]\n",
    "\n",
    "print(num_str)"
   ]
  },
  {
   "cell_type": "markdown",
   "id": "529e59cf",
   "metadata": {},
   "source": [
    "#### 4. convert the digits into integer "
   ]
  },
  {
   "cell_type": "code",
   "execution_count": 30,
   "id": "f3ae8512",
   "metadata": {},
   "outputs": [
    {
     "ename": "IndexError",
     "evalue": "string index out of range",
     "output_type": "error",
     "traceback": [
      "\u001b[0;31m---------------------------------------------------------------------------\u001b[0m",
      "\u001b[0;31mIndexError\u001b[0m                                Traceback (most recent call last)",
      "\u001b[0;32m/tmp/ipykernel_72/926422722.py\u001b[0m in \u001b[0;36m<module>\u001b[0;34m\u001b[0m\n\u001b[1;32m      5\u001b[0m     \u001b[0mres\u001b[0m \u001b[0;34m=\u001b[0m \u001b[0;36m0\u001b[0m\u001b[0;34m\u001b[0m\u001b[0;34m\u001b[0m\u001b[0m\n\u001b[1;32m      6\u001b[0m \u001b[0;34m\u001b[0m\u001b[0m\n\u001b[0;32m----> 7\u001b[0;31m \u001b[0;32mif\u001b[0m \u001b[0mnum_str\u001b[0m\u001b[0;34m[\u001b[0m\u001b[0;36m0\u001b[0m\u001b[0;34m]\u001b[0m \u001b[0;34m==\u001b[0m \u001b[0;34m'-'\u001b[0m\u001b[0;34m:\u001b[0m\u001b[0;34m\u001b[0m\u001b[0;34m\u001b[0m\u001b[0m\n\u001b[0m\u001b[1;32m      8\u001b[0m     \u001b[0msign\u001b[0m \u001b[0;34m=\u001b[0m \u001b[0;34m-\u001b[0m\u001b[0;36m1\u001b[0m\u001b[0;34m\u001b[0m\u001b[0;34m\u001b[0m\u001b[0m\n\u001b[1;32m      9\u001b[0m     \u001b[0mnum\u001b[0m \u001b[0;34m=\u001b[0m \u001b[0mint\u001b[0m\u001b[0;34m(\u001b[0m\u001b[0mnum_str\u001b[0m\u001b[0;34m[\u001b[0m\u001b[0;36m1\u001b[0m\u001b[0;34m:\u001b[0m\u001b[0;34m]\u001b[0m\u001b[0;34m)\u001b[0m\u001b[0;34m\u001b[0m\u001b[0;34m\u001b[0m\u001b[0m\n",
      "\u001b[0;31mIndexError\u001b[0m: string index out of range"
     ]
    }
   ],
   "source": [
    "if num_str == '-' or num_str == '+':\n",
    "    res = 0\n",
    "\n",
    "if len(num_str) == 0:\n",
    "    res = 0\n",
    "\n",
    "if num_str[0] == '-':\n",
    "    sign = -1\n",
    "    num = int(num_str[1:])\n",
    "elif num_str[0] == '+':\n",
    "    sign = 1\n",
    "    num = int(num_str[1:])\n",
    "else:\n",
    "    sign = 1\n",
    "    num = int(num_str)\n",
    "\n",
    "res = num * sign\n"
   ]
  },
  {
   "cell_type": "markdown",
   "id": "dbf63d38",
   "metadata": {},
   "source": [
    "#### 5. check if the integer is out of valid range"
   ]
  },
  {
   "cell_type": "code",
   "execution_count": 31,
   "id": "7f415d3b",
   "metadata": {},
   "outputs": [],
   "source": [
    "if res > 2 ** 31 - 1:\n",
    "    res = 2 ** 31 - 1\n",
    "if res < -1 * 2 ** 31:\n",
    "    res = -1 * 2 ** 31"
   ]
  },
  {
   "cell_type": "code",
   "execution_count": 32,
   "id": "1f4231a9",
   "metadata": {},
   "outputs": [
    {
     "name": "stdout",
     "output_type": "stream",
     "text": [
      "0\n"
     ]
    }
   ],
   "source": [
    "print(res)"
   ]
  },
  {
   "cell_type": "markdown",
   "id": "6389302f",
   "metadata": {},
   "source": [
    "### Solution 1: step by step storing and converting - Time O(N); Space O(N)"
   ]
  },
  {
   "cell_type": "code",
   "execution_count": 33,
   "id": "d473f61a",
   "metadata": {},
   "outputs": [],
   "source": [
    "class Solution1:\n",
    "    def myAtoi(self, s: str) -> int:\n",
    "        \n",
    "        # 1. ingore the leading whitespaces\n",
    "        for i in range(len(s)):\n",
    "            if s[i] == ' ':\n",
    "                continue\n",
    "            else:\n",
    "                s = s[i: ]\n",
    "                break\n",
    "        \n",
    "        # 2 and 3: read the digits with sign of '-' or '+'\n",
    "        num_str = ''\n",
    "        \n",
    "        if not s[0].isdigit():\n",
    "            if s[0] != '+' or '-':\n",
    "                return 0\n",
    "            \n",
    "        for i in range(len(s) - 1):\n",
    "            if s[i] == '-' or s[i] == '+':\n",
    "                if s[i + 1].isdigit():\n",
    "                    num_str += s[i]\n",
    "                    \n",
    "            elif not s[i].isdigit():\n",
    "                break\n",
    "                \n",
    "            elif s[i].isdigit():\n",
    "                num_str += s[i]\n",
    "        if s[len(s) - 1].isdigit():\n",
    "            num_str += s[i]\n",
    "\n",
    "            \n",
    "       \n",
    "        # 4. convert the digits into an integer\n",
    "        if len(num_str) == 0:\n",
    "            return 0\n",
    "        if num_str[0] == '-':\n",
    "            sign = -1\n",
    "            num = int(num_str[1: ])\n",
    "        if num_str[0] == '+':\n",
    "            sign = 1\n",
    "            num = int(num_str[1: ])\n",
    "        if num_str[0].isdigit():\n",
    "            sign = 1\n",
    "            num = int(num_str)\n",
    "        \n",
    "        res = sign * num\n",
    "        \n",
    "        # 5. check the if the integer is out of the valid range\n",
    "        upper_bound = 2 ** 31 - 1\n",
    "        lower_bound = -1 * 2 ** 31\n",
    "        \n",
    "        if res < lower_bound:\n",
    "            return lower_bound\n",
    "        if res > upper_bound:\n",
    "            return upper_bound\n",
    "        \n",
    "        return res"
   ]
  },
  {
   "cell_type": "code",
   "execution_count": 18,
   "id": "8eb399fe",
   "metadata": {},
   "outputs": [
    {
     "data": {
      "text/plain": [
       "'abce +457'"
      ]
     },
     "execution_count": 18,
     "metadata": {},
     "output_type": "execute_result"
    }
   ],
   "source": [
    "s"
   ]
  },
  {
   "cell_type": "code",
   "execution_count": 20,
   "id": "21b06d19",
   "metadata": {},
   "outputs": [
    {
     "name": "stdout",
     "output_type": "stream",
     "text": [
      "1\n"
     ]
    }
   ],
   "source": [
    "\n",
    "    "
   ]
  },
  {
   "cell_type": "code",
   "execution_count": 34,
   "id": "0ba5b7e8",
   "metadata": {},
   "outputs": [
    {
     "data": {
      "text/plain": [
       "False"
      ]
     },
     "execution_count": 34,
     "metadata": {},
     "output_type": "execute_result"
    }
   ],
   "source": [
    "'.'.isdigit()"
   ]
  },
  {
   "cell_type": "markdown",
   "id": "809ca875",
   "metadata": {},
   "source": [
    "### Solution 2:  character visit "
   ]
  },
  {
   "cell_type": "markdown",
   "id": "a9c5ff53",
   "metadata": {},
   "source": [
    "#### initialisation"
   ]
  },
  {
   "cell_type": "code",
   "execution_count": 9,
   "id": "c20eabfe",
   "metadata": {},
   "outputs": [],
   "source": [
    "# define a string to be tested by the solution algorithm\n",
    "\n",
    "s = \"123 is the word\""
   ]
  },
  {
   "cell_type": "code",
   "execution_count": 10,
   "id": "c430fbcb",
   "metadata": {},
   "outputs": [],
   "source": [
    "# initialise the parameters and the result\n",
    "\n",
    "res = 0\n",
    "index = 0\n",
    "UPPER_BOUND = 2 ** 31 - 1\n",
    "LOWER_BOUND = -1 * 2 ** 31"
   ]
  },
  {
   "cell_type": "markdown",
   "id": "0a203ad6",
   "metadata": {},
   "source": [
    "#### 2.1 ignore any leading whitespaces"
   ]
  },
  {
   "cell_type": "code",
   "execution_count": 11,
   "id": "ff1750b5",
   "metadata": {},
   "outputs": [],
   "source": [
    "while index < len(s) and s[index] == ' ':\n",
    "    index += 1"
   ]
  },
  {
   "cell_type": "markdown",
   "id": "7061b082",
   "metadata": {},
   "source": [
    "#### 2.2 confirm the sign of the valid integer"
   ]
  },
  {
   "cell_type": "code",
   "execution_count": 12,
   "id": "9d6b25cc",
   "metadata": {},
   "outputs": [],
   "source": [
    "if index < len(s) and s[index] == '+':\n",
    "    sign = 1\n",
    "    index += 1\n",
    "elif index < len(s) and s[index] == '-':\n",
    "    sign = -1\n",
    "    index += 1"
   ]
  },
  {
   "cell_type": "markdown",
   "id": "32b746d4",
   "metadata": {},
   "source": [
    "#### 2.3 visit following characters"
   ]
  },
  {
   "cell_type": "code",
   "execution_count": 13,
   "id": "ac5dd65f",
   "metadata": {},
   "outputs": [],
   "source": [
    "while index < len(s) and s[index].isdigit():\n",
    "    digit = int(s[index])\n",
    "    \n",
    "    if (res > UPPER_BOUND // 10) or (res == UPPER_BOUND // 10 and digit > UPPER_BOUND % 10):\n",
    "        if sign == 1:\n",
    "            res = UPPER_BOUND\n",
    "            break\n",
    "        else:\n",
    "            res = LOWER_BOUND\n",
    "            break\n",
    "    \n",
    "    res = 10 * res + digit\n",
    "    index += 1"
   ]
  },
  {
   "cell_type": "code",
   "execution_count": 14,
   "id": "5874107e",
   "metadata": {},
   "outputs": [
    {
     "data": {
      "text/plain": [
       "'123 is the word'"
      ]
     },
     "execution_count": 14,
     "metadata": {},
     "output_type": "execute_result"
    }
   ],
   "source": [
    "s"
   ]
  },
  {
   "cell_type": "code",
   "execution_count": 15,
   "id": "e4b47e98",
   "metadata": {},
   "outputs": [
    {
     "data": {
      "text/plain": [
       "123"
      ]
     },
     "execution_count": 15,
     "metadata": {},
     "output_type": "execute_result"
    }
   ],
   "source": [
    "res"
   ]
  },
  {
   "cell_type": "code",
   "execution_count": 16,
   "id": "b8a9ffb8",
   "metadata": {},
   "outputs": [],
   "source": [
    "class Solution2:\n",
    "    def myAtoi(self, s: str) -> int:\n",
    "        \n",
    "        res = 0\n",
    "        index = 0\n",
    "        UPPER_BOUND = 2 ** 31 - 1\n",
    "        LOWER_BOUND = -1 * 2 ** 31\n",
    "        \n",
    "        # 1. ignore all the leading whitespaces\n",
    "        while index < len(s) and s[index] == ' ':\n",
    "            index += 1\n",
    "        \n",
    "        # 2. confirm the sign\n",
    "        if index < len(s) and s[index] == '+':\n",
    "            sign = 1\n",
    "            index += 1\n",
    "        elif index < len(s) and s[index] == '-':\n",
    "            sign = -1\n",
    "            index += 1\n",
    "        \n",
    "        # 3. visit the following characters\n",
    "        while index < len(s) and s[index].isdigit():\n",
    "            digit = int(s[index])\n",
    "            \n",
    "            if (res > UPPER_BOUND // 10) or (res == UPPER_BOUND // 10 and digit > UPPER_BOUND % 10):\n",
    "                if sign == 1:\n",
    "                    return UPPER_BOUND\n",
    "                elif sign == -1:\n",
    "                    return LOWER_BOUND\n",
    "            \n",
    "            res = 10 * res + digit\n",
    "            index += 1\n",
    "        \n",
    "        return sign * res"
   ]
  },
  {
   "cell_type": "code",
   "execution_count": null,
   "id": "7f1af5c4",
   "metadata": {},
   "outputs": [],
   "source": []
  }
 ],
 "metadata": {
  "kernelspec": {
   "display_name": "Python 3 (ipykernel)",
   "language": "python",
   "name": "python3"
  },
  "language_info": {
   "codemirror_mode": {
    "name": "ipython",
    "version": 3
   },
   "file_extension": ".py",
   "mimetype": "text/x-python",
   "name": "python",
   "nbconvert_exporter": "python",
   "pygments_lexer": "ipython3",
   "version": "3.9.10"
  }
 },
 "nbformat": 4,
 "nbformat_minor": 5
}
