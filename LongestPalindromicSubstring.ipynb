{
 "cells": [
  {
   "cell_type": "markdown",
   "id": "1d67c315",
   "metadata": {},
   "source": [
    "## Question 5: Longest Palindromic Substring"
   ]
  },
  {
   "cell_type": "markdown",
   "id": "0e81a283",
   "metadata": {},
   "source": [
    "### Given a string s, return the longest palindromic substring in s."
   ]
  },
  {
   "cell_type": "markdown",
   "id": "88759c26",
   "metadata": {},
   "source": [
    "### example:"
   ]
  },
  {
   "cell_type": "markdown",
   "id": "b6a14f2e",
   "metadata": {},
   "source": [
    "### Input: s = \"babad\""
   ]
  },
  {
   "cell_type": "markdown",
   "id": "a69b0cee",
   "metadata": {},
   "source": [
    "### Output: \"bab\""
   ]
  },
  {
   "cell_type": "markdown",
   "id": "a2dd9a0d",
   "metadata": {},
   "source": [
    "### \"make some trials\""
   ]
  },
  {
   "cell_type": "code",
   "execution_count": 1,
   "id": "251c8777",
   "metadata": {},
   "outputs": [
    {
     "data": {
      "text/plain": [
       "True"
      ]
     },
     "execution_count": 1,
     "metadata": {},
     "output_type": "execute_result"
    }
   ],
   "source": [
    "# try\n",
    "\n",
    "a = \"ab\"\n",
    "b = \"abc\"\n",
    "\n",
    "a in b"
   ]
  },
  {
   "cell_type": "code",
   "execution_count": 2,
   "id": "9355c07b",
   "metadata": {},
   "outputs": [
    {
     "data": {
      "text/plain": [
       "dict_keys([1, 2, 3])"
      ]
     },
     "execution_count": 2,
     "metadata": {},
     "output_type": "execute_result"
    }
   ],
   "source": [
    "# hash \n",
    "\n",
    "d = {1:\"a\", 2:\"ab\", 3:\"abc\"}\n",
    "\n",
    "d.keys()"
   ]
  },
  {
   "cell_type": "code",
   "execution_count": 4,
   "id": "d632a7f5",
   "metadata": {},
   "outputs": [
    {
     "data": {
      "text/plain": [
       "[1, 2, 3]"
      ]
     },
     "execution_count": 4,
     "metadata": {},
     "output_type": "execute_result"
    }
   ],
   "source": [
    "list(d.keys())"
   ]
  },
  {
   "cell_type": "code",
   "execution_count": 6,
   "id": "f9bac34c",
   "metadata": {},
   "outputs": [
    {
     "data": {
      "text/plain": [
       "3"
      ]
     },
     "execution_count": 6,
     "metadata": {},
     "output_type": "execute_result"
    }
   ],
   "source": [
    "max(l)"
   ]
  },
  {
   "cell_type": "code",
   "execution_count": 82,
   "id": "093e5307",
   "metadata": {},
   "outputs": [
    {
     "name": "stdout",
     "output_type": "stream",
     "text": [
      "The reversed string is bba\n",
      "========== The current checking rest substring is abb with length of 3 ==========\n",
      "++++++ The current h is 1\n",
      "++++++ the current length for this round is 1 ++++++\n",
      "the current substring is a\n",
      "--- find a possible substring! ---\n",
      "-- a --\n",
      "++++++ The current h is 2\n",
      "++++++ the current length for this round is 2 ++++++\n",
      "the current substring is ab\n",
      "++++++ The current h is 3\n",
      "++++++ the current length for this round is 3 ++++++\n",
      "the current substring is abb\n",
      "========== The current checking rest substring is bb with length of 2 ==========\n",
      "++++++ The current h is 2\n",
      "++++++ the current length for this round is 1 ++++++\n",
      "the current substring is b\n",
      "--- find a possible substring! ---\n",
      "-- b --\n",
      "++++++ The current h is 3\n",
      "++++++ the current length for this round is 2 ++++++\n",
      "the current substring is bb\n",
      "--- find a possible substring! ---\n",
      "-- bb --\n",
      "========== The current checking rest substring is b with length of 1 ==========\n",
      "++++++ The current h is 3\n",
      "++++++ the current length for this round is 1 ++++++\n",
      "the current substring is b\n",
      "--- find a possible substring! ---\n",
      "-- b --\n"
     ]
    },
    {
     "data": {
      "text/plain": [
       "{1: ['a', 'b', 'b'], 2: ['bb'], 3: []}"
      ]
     },
     "execution_count": 82,
     "metadata": {},
     "output_type": "execute_result"
    }
   ],
   "source": [
    "s = \"abb\"\n",
    "\n",
    "reversed_s = \"\"\n",
    "\n",
    "for char in reversed(s):\n",
    "    reversed_s += char\n",
    "print(\"The reversed string is {}\".format(reversed_s))\n",
    "\n",
    "hash_map = {}\n",
    "for i in range(1, len(s) + 1):\n",
    "    hash_map[i] = []\n",
    "    \n",
    "for i in range(len(s)):\n",
    "    print(\"========== The current checking rest substring is {} with length of {} ==========\".format(s[i: ], len(s[i: ])))\n",
    "   \n",
    "    for h in range(i + 1, len(s) + 1):\n",
    "\n",
    "        print(\"++++++ The current h is {}\".format(h))\n",
    "        print(\"++++++ the current length for this round is {} ++++++\".format(h - i))\n",
    "        print(\"the current substring is {}\".format(s[i: h]))\n",
    "        \n",
    "        if s[i: h] in reversed_s:\n",
    "            reversed_sub = \"\"\n",
    "            for c in reversed(s[i: h]):\n",
    "                \n",
    "            print(\"--- find a possible substring! ---\")\n",
    "            print(\"-- {} --\".format(s[i: h]))\n",
    "            hash_map[h - i].append(s[i: h])\n",
    "hash_map\n",
    "\n"
   ]
  },
  {
   "cell_type": "code",
   "execution_count": 83,
   "id": "660ae63e",
   "metadata": {},
   "outputs": [
    {
     "name": "stdout",
     "output_type": "stream",
     "text": [
      "bb\n"
     ]
    }
   ],
   "source": [
    "list_hash = list(key for key in hash_map.keys() if hash_map[key] != [])\n",
    "\n",
    "maximum_length = max(list_hash)\n",
    "\n",
    "print(hash_map[maximum_length][0])"
   ]
  },
  {
   "cell_type": "code",
   "execution_count": 86,
   "id": "694645ce",
   "metadata": {},
   "outputs": [
    {
     "data": {
      "text/plain": [
       "False"
      ]
     },
     "execution_count": 86,
     "metadata": {},
     "output_type": "execute_result"
    }
   ],
   "source": [
    "s = \"bab\"\n",
    "\n",
    "s == reversed(s)"
   ]
  },
  {
   "cell_type": "code",
   "execution_count": 88,
   "id": "4e103d50",
   "metadata": {},
   "outputs": [
    {
     "data": {
      "text/plain": [
       "<reversed at 0x7f4e0bbb51c0>"
      ]
     },
     "execution_count": 88,
     "metadata": {},
     "output_type": "execute_result"
    }
   ],
   "source": [
    "reversed(s)"
   ]
  },
  {
   "cell_type": "markdown",
   "id": "2cdcc987",
   "metadata": {},
   "source": [
    "### Solution 1: Brute Force O(N^3)"
   ]
  },
  {
   "cell_type": "code",
   "execution_count": 1,
   "id": "a5a05114",
   "metadata": {},
   "outputs": [],
   "source": [
    "class Solution1:\n",
    "    def longestPalindrome(self, s: str) -> str:\n",
    "        \n",
    "        reversed_s = \"\"\n",
    "        for char in reversed(s):\n",
    "            reversed_s += char\n",
    "        \n",
    "        hash_map = {}\n",
    "        for i in range(1, len(s) + 1):\n",
    "            hash_map[i] = []\n",
    "            \n",
    "        for head in range(len(s)):\n",
    "            for tail in range(head + 1, len(s) + 1):\n",
    "                if s[head: tail] in reversed_s:\n",
    "                    reversed_sub = \"\"\n",
    "                    for c in reversed(s[head: tail]):\n",
    "                        reversed_sub += c\n",
    "                    if s[head: tail] == reversed_sub:\n",
    "                        hash_map[tail - head].append(s[head: tail])\n",
    "        \n",
    "        list_hash = list(key for key in hash_map.keys() if hash_map[key] != [])\n",
    "        \n",
    "        if list_hash != []:\n",
    "            maximum_length = max(list_hash)\n",
    "            return hash_map[maximum_length][0]\n",
    "        else:\n",
    "            return \"\""
   ]
  },
  {
   "cell_type": "markdown",
   "id": "c99b12d4",
   "metadata": {},
   "source": [
    "### Solution2: Dynamic Programming O(N^2)"
   ]
  },
  {
   "cell_type": "markdown",
   "id": "9f104eb8",
   "metadata": {},
   "source": [
    "#### string initialisation"
   ]
  },
  {
   "cell_type": "code",
   "execution_count": 261,
   "id": "7d8f03d1",
   "metadata": {},
   "outputs": [],
   "source": [
    "# let's assign a specific string for running the algorithm\n",
    "\n",
    "s = \"aaaaa\""
   ]
  },
  {
   "cell_type": "markdown",
   "id": "a457bd27",
   "metadata": {},
   "source": [
    "#### 2.0 Definition - dp[i][j] is true when s[i: j] is Palindromic Substring "
   ]
  },
  {
   "cell_type": "code",
   "execution_count": 262,
   "id": "206d7a34",
   "metadata": {},
   "outputs": [
    {
     "name": "stdout",
     "output_type": "stream",
     "text": [
      "[False, False, False, False, False]\n",
      "[False, False, False, False, False]\n",
      "[False, False, False, False, False]\n",
      "[False, False, False, False, False]\n",
      "[False, False, False, False, False]\n"
     ]
    }
   ],
   "source": [
    "# initialise a 2D dynamic programming list for storing sub-problem results\n",
    "# dp[i][j] represents the string s[i: j+1]\n",
    "# all instances should be initialised as False\n",
    "\n",
    "dp = [[False for _ in range(len(s))] for _ in range(len(s))]\n",
    "\n",
    "for i in range(len(s)):\n",
    "    print(dp[i])"
   ]
  },
  {
   "cell_type": "code",
   "execution_count": 263,
   "id": "6eecf9c6",
   "metadata": {},
   "outputs": [],
   "source": [
    "# initialise the result substring as vacent string\n",
    "\n",
    "res = \"\""
   ]
  },
  {
   "cell_type": "markdown",
   "id": "93861f8a",
   "metadata": {},
   "source": [
    "#### 2.1 recursion "
   ]
  },
  {
   "cell_type": "markdown",
   "id": "9ae054b8",
   "metadata": {},
   "source": [
    "#### 2.1.1 base cases:        "
   ]
  },
  {
   "cell_type": "code",
   "execution_count": 264,
   "id": "6cf2dd0d",
   "metadata": {},
   "outputs": [],
   "source": [
    "# base case 1: a single character is a True instance\n",
    "\n",
    "for i in range(len(s)):\n",
    "    dp[i][i] = True"
   ]
  },
  {
   "cell_type": "code",
   "execution_count": 265,
   "id": "2202a17e",
   "metadata": {},
   "outputs": [
    {
     "name": "stdout",
     "output_type": "stream",
     "text": [
      "[True, False, False, False, False]\n",
      "[False, True, False, False, False]\n",
      "[False, False, True, False, False]\n",
      "[False, False, False, True, False]\n",
      "[False, False, False, False, True]\n"
     ]
    }
   ],
   "source": [
    "for i in range(len(s)):\n",
    "    print(dp[i])"
   ]
  },
  {
   "cell_type": "code",
   "execution_count": 266,
   "id": "339e4e8c",
   "metadata": {},
   "outputs": [],
   "source": [
    "# base case 2: a substring with 2 same characters occuring consecutively is a True instance\n",
    "\n",
    "for j in range(len(s)):\n",
    "    for i in range(j + 1):\n",
    "        if j == i + 1 and s[i] == s[j]:\n",
    "            dp[i][j] = True\n",
    "    "
   ]
  },
  {
   "cell_type": "code",
   "execution_count": 267,
   "id": "3ba9cec8",
   "metadata": {
    "scrolled": true
   },
   "outputs": [
    {
     "name": "stdout",
     "output_type": "stream",
     "text": [
      "[True, True, False, False, False]\n",
      "[False, True, True, False, False]\n",
      "[False, False, True, True, False]\n",
      "[False, False, False, True, True]\n",
      "[False, False, False, False, True]\n"
     ]
    }
   ],
   "source": [
    "for i in range(len(s)):\n",
    "    print(dp[i])"
   ]
  },
  {
   "cell_type": "markdown",
   "id": "af379568",
   "metadata": {},
   "source": [
    "#### 2.1.2 recursive case: when dp[i+1][j-1] is True and s[i] = s[j]; then dp[i][j] is True"
   ]
  },
  {
   "cell_type": "code",
   "execution_count": 268,
   "id": "98bed995",
   "metadata": {},
   "outputs": [
    {
     "name": "stdout",
     "output_type": "stream",
     "text": [
      "i is 0 and j is 0\n",
      "i is 0 and j is 1\n",
      "i is 0 and j is 2\n",
      "[True, True, True, False, False]\n",
      "[False, True, True, False, False]\n",
      "[False, False, True, True, False]\n",
      "[False, False, False, True, True]\n",
      "[False, False, False, False, True]\n",
      "i is 0 and j is 3\n",
      "[True, True, True, True, False]\n",
      "[False, True, True, False, False]\n",
      "[False, False, True, True, False]\n",
      "[False, False, False, True, True]\n",
      "[False, False, False, False, True]\n",
      "i is 0 and j is 4\n",
      "i is 1 and j is 0\n",
      "i is 1 and j is 1\n",
      "i is 1 and j is 2\n",
      "i is 1 and j is 3\n",
      "[True, True, True, True, False]\n",
      "[False, True, True, True, False]\n",
      "[False, False, True, True, False]\n",
      "[False, False, False, True, True]\n",
      "[False, False, False, False, True]\n",
      "i is 1 and j is 4\n",
      "[True, True, True, True, False]\n",
      "[False, True, True, True, True]\n",
      "[False, False, True, True, False]\n",
      "[False, False, False, True, True]\n",
      "[False, False, False, False, True]\n",
      "i is 2 and j is 0\n",
      "[True, True, True, True, False]\n",
      "[False, True, True, True, True]\n",
      "[True, False, True, True, False]\n",
      "[False, False, False, True, True]\n",
      "[False, False, False, False, True]\n",
      "i is 2 and j is 1\n",
      "i is 2 and j is 2\n",
      "i is 2 and j is 3\n",
      "i is 2 and j is 4\n",
      "[True, True, True, True, False]\n",
      "[False, True, True, True, True]\n",
      "[True, False, True, True, True]\n",
      "[False, False, False, True, True]\n",
      "[False, False, False, False, True]\n",
      "i is 3 and j is 0\n",
      "[True, True, True, True, False]\n",
      "[False, True, True, True, True]\n",
      "[True, False, True, True, True]\n",
      "[True, False, False, True, True]\n",
      "[False, False, False, False, True]\n",
      "i is 3 and j is 1\n",
      "i is 3 and j is 2\n",
      "i is 3 and j is 3\n",
      "i is 3 and j is 4\n"
     ]
    }
   ],
   "source": [
    "for i in range(len(s) - 1):\n",
    "    for j in range(len(s)):\n",
    "        print(\"i is {} and j is {}\".format(i, j))\n",
    "        # recursive case\n",
    "        if s[i] == s[j] and dp[i + 1][j - 1]:\n",
    "            dp[i][j] = True\n",
    "            for k in range(len(s)):\n",
    "                print(dp[k])\n",
    "        # update the result\n",
    "        if dp[i][j] and j - i + 1 > len(res):\n",
    "           \n",
    "            res = s[i: j+1]\n",
    "            "
   ]
  },
  {
   "cell_type": "code",
   "execution_count": 269,
   "id": "2ed4f7e4",
   "metadata": {
    "scrolled": true
   },
   "outputs": [
    {
     "data": {
      "text/plain": [
       "'aaaa'"
      ]
     },
     "execution_count": 269,
     "metadata": {},
     "output_type": "execute_result"
    }
   ],
   "source": [
    "res"
   ]
  },
  {
   "cell_type": "code",
   "execution_count": 270,
   "id": "8c14d348",
   "metadata": {},
   "outputs": [
    {
     "data": {
      "text/plain": [
       "True"
      ]
     },
     "execution_count": 270,
     "metadata": {},
     "output_type": "execute_result"
    }
   ],
   "source": [
    "dp[1][3]"
   ]
  },
  {
   "cell_type": "code",
   "execution_count": 271,
   "id": "a0ca76fa",
   "metadata": {},
   "outputs": [
    {
     "data": {
      "text/plain": [
       "'a'"
      ]
     },
     "execution_count": 271,
     "metadata": {},
     "output_type": "execute_result"
    }
   ],
   "source": [
    "s[0]"
   ]
  },
  {
   "cell_type": "code",
   "execution_count": 272,
   "id": "e22671fd",
   "metadata": {},
   "outputs": [
    {
     "data": {
      "text/plain": [
       "'a'"
      ]
     },
     "execution_count": 272,
     "metadata": {},
     "output_type": "execute_result"
    }
   ],
   "source": [
    "s[4]"
   ]
  },
  {
   "cell_type": "code",
   "execution_count": 273,
   "id": "cb3f8cdb",
   "metadata": {},
   "outputs": [
    {
     "data": {
      "text/plain": [
       "False"
      ]
     },
     "execution_count": 273,
     "metadata": {},
     "output_type": "execute_result"
    }
   ],
   "source": [
    "dp[0][4]"
   ]
  },
  {
   "cell_type": "markdown",
   "id": "129de3cf",
   "metadata": {},
   "source": [
    "#### 2.2 solution class "
   ]
  },
  {
   "cell_type": "code",
   "execution_count": 299,
   "id": "b2e07e9b",
   "metadata": {},
   "outputs": [],
   "source": [
    "class Solution2:\n",
    "    def longestPalindrome(self, s: str) -> str:\n",
    "        \n",
    "        if len(s) == 1:\n",
    "            \n",
    "            return s\n",
    "        \n",
    "        dp = [[False for _ in range(len(s))] for _ in range(len(s))]\n",
    "        result = \"\"\n",
    "        \n",
    "\n",
    "        for end in range(len(s)):\n",
    "            for start in range(end + 1):\n",
    "                \n",
    "                dp[start][end] = ((s[start] == s[end]) and ((end - start <= 2) or dp[start + 1][end - 1]))\n",
    "                \n",
    "                \n",
    "                if dp[start][end] and (end - start + 1) > len(result):\n",
    "                    result = s[start: end + 1]\n",
    "        \n",
    "        return result\n",
    "        "
   ]
  },
  {
   "cell_type": "code",
   "execution_count": 300,
   "id": "d34919ef",
   "metadata": {},
   "outputs": [],
   "source": [
    "sample = Solution2()"
   ]
  },
  {
   "cell_type": "code",
   "execution_count": 301,
   "id": "800b0f83",
   "metadata": {},
   "outputs": [
    {
     "data": {
      "text/plain": [
       "'bab'"
      ]
     },
     "execution_count": 301,
     "metadata": {},
     "output_type": "execute_result"
    }
   ],
   "source": [
    "sample.longestPalindrome(\"babad\")"
   ]
  },
  {
   "cell_type": "code",
   "execution_count": 302,
   "id": "4edb78ae",
   "metadata": {},
   "outputs": [
    {
     "data": {
      "text/plain": [
       "'bb'"
      ]
     },
     "execution_count": 302,
     "metadata": {},
     "output_type": "execute_result"
    }
   ],
   "source": [
    "sample.longestPalindrome(\"cbbd\")"
   ]
  },
  {
   "cell_type": "code",
   "execution_count": 303,
   "id": "ad4e1e6a",
   "metadata": {},
   "outputs": [
    {
     "data": {
      "text/plain": [
       "'aaaaa'"
      ]
     },
     "execution_count": 303,
     "metadata": {},
     "output_type": "execute_result"
    }
   ],
   "source": [
    "sample.longestPalindrome(\"aaaaa\")"
   ]
  },
  {
   "cell_type": "markdown",
   "id": "cf2bbe10",
   "metadata": {},
   "source": [
    "### Solution 3: "
   ]
  },
  {
   "cell_type": "code",
   "execution_count": null,
   "id": "1a760a20",
   "metadata": {},
   "outputs": [],
   "source": []
  }
 ],
 "metadata": {
  "kernelspec": {
   "display_name": "Python 3 (ipykernel)",
   "language": "python",
   "name": "python3"
  },
  "language_info": {
   "codemirror_mode": {
    "name": "ipython",
    "version": 3
   },
   "file_extension": ".py",
   "mimetype": "text/x-python",
   "name": "python",
   "nbconvert_exporter": "python",
   "pygments_lexer": "ipython3",
   "version": "3.9.10"
  }
 },
 "nbformat": 4,
 "nbformat_minor": 5
}
