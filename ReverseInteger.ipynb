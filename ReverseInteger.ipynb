{
 "cells": [
  {
   "cell_type": "markdown",
   "id": "79d024f9",
   "metadata": {},
   "source": [
    "## Question 7: Reverse Integer"
   ]
  },
  {
   "cell_type": "markdown",
   "id": "926c2319",
   "metadata": {},
   "source": [
    "### given a signed 32-bit integer x, return x with its digits reversed"
   ]
  },
  {
   "cell_type": "markdown",
   "id": "74685cb3",
   "metadata": {},
   "source": [
    "### if reversing x causes the value to go outside the signed 32-bit integer range [-2^31, 2^31 - 1], then return 0"
   ]
  },
  {
   "cell_type": "markdown",
   "id": "141e90f5",
   "metadata": {},
   "source": [
    "### example 1:"
   ]
  },
  {
   "cell_type": "markdown",
   "id": "00b0b689",
   "metadata": {},
   "source": [
    "### Input: 123\n",
    "### Output: 321"
   ]
  },
  {
   "cell_type": "markdown",
   "id": "7ed748d7",
   "metadata": {},
   "source": [
    "### example 2:\n",
    "### Input: 120\n",
    "### Output: 21"
   ]
  },
  {
   "cell_type": "markdown",
   "id": "76dc3398",
   "metadata": {},
   "source": [
    "### Solution Idea 1: int to string convert"
   ]
  },
  {
   "cell_type": "code",
   "execution_count": 1,
   "id": "9fcfa48a",
   "metadata": {},
   "outputs": [
    {
     "name": "stdout",
     "output_type": "stream",
     "text": [
      "123\n"
     ]
    }
   ],
   "source": [
    "# convert the int x to string\n",
    "\n",
    "x = 123\n",
    "x_str = str(x)\n",
    "\n",
    "print(x_str)"
   ]
  },
  {
   "cell_type": "code",
   "execution_count": 2,
   "id": "f8515c71",
   "metadata": {},
   "outputs": [
    {
     "name": "stdout",
     "output_type": "stream",
     "text": [
      "321\n"
     ]
    }
   ],
   "source": [
    "# for a decimal integer, base is 10 \n",
    "\n",
    "res = 0\n",
    "\n",
    "for i in range(len(x_str)):\n",
    "    res += int(x_str[i]) * 10 ** i\n",
    "\n",
    "print(res)"
   ]
  },
  {
   "cell_type": "code",
   "execution_count": 2,
   "id": "9fbe5a6b",
   "metadata": {},
   "outputs": [
    {
     "ename": "ValueError",
     "evalue": "invalid literal for int() with base 10: '-'",
     "output_type": "error",
     "traceback": [
      "\u001b[0;31m---------------------------------------------------------------------------\u001b[0m",
      "\u001b[0;31mValueError\u001b[0m                                Traceback (most recent call last)",
      "\u001b[0;32m/tmp/ipykernel_36/3542768898.py\u001b[0m in \u001b[0;36m<module>\u001b[0;34m\u001b[0m\n\u001b[1;32m      6\u001b[0m \u001b[0;34m\u001b[0m\u001b[0m\n\u001b[1;32m      7\u001b[0m \u001b[0;32mfor\u001b[0m \u001b[0mi\u001b[0m \u001b[0;32min\u001b[0m \u001b[0mrange\u001b[0m\u001b[0;34m(\u001b[0m\u001b[0mlen\u001b[0m\u001b[0;34m(\u001b[0m\u001b[0mx_str\u001b[0m\u001b[0;34m)\u001b[0m\u001b[0;34m)\u001b[0m\u001b[0;34m:\u001b[0m\u001b[0;34m\u001b[0m\u001b[0;34m\u001b[0m\u001b[0m\n\u001b[0;32m----> 8\u001b[0;31m     \u001b[0mprint\u001b[0m\u001b[0;34m(\u001b[0m\u001b[0mint\u001b[0m\u001b[0;34m(\u001b[0m\u001b[0mx_str\u001b[0m\u001b[0;34m[\u001b[0m\u001b[0mi\u001b[0m\u001b[0;34m]\u001b[0m\u001b[0;34m)\u001b[0m\u001b[0;34m)\u001b[0m\u001b[0;34m\u001b[0m\u001b[0;34m\u001b[0m\u001b[0m\n\u001b[0m",
      "\u001b[0;31mValueError\u001b[0m: invalid literal for int() with base 10: '-'"
     ]
    }
   ],
   "source": [
    "# when the integer is negative, the negative simbol matters\n",
    "\n",
    "x = -123\n",
    "\n",
    "x_str = str(x)\n",
    "\n",
    "for i in range(len(x_str)):\n",
    "    print(int(x_str[i]))"
   ]
  },
  {
   "cell_type": "code",
   "execution_count": 3,
   "id": "078e1884",
   "metadata": {},
   "outputs": [
    {
     "name": "stdout",
     "output_type": "stream",
     "text": [
      "123\n"
     ]
    }
   ],
   "source": [
    "# before iterating the converted string, we need to consider the negative simbol\n",
    "\n",
    "if x < 0:\n",
    "    x_str = str(x)[1:]\n",
    "\n",
    "print(x_str)"
   ]
  },
  {
   "cell_type": "markdown",
   "id": "60af7966",
   "metadata": {},
   "source": [
    "### Solution 1: convert to string "
   ]
  },
  {
   "cell_type": "code",
   "execution_count": 4,
   "id": "b17cf27c",
   "metadata": {},
   "outputs": [],
   "source": [
    "class Solution:\n",
    "    def reverse(self, x: int) -> int:\n",
    "        \n",
    "        res = 0\n",
    "        \n",
    "        if x < 0:\n",
    "            x_str = str(x)[1:]\n",
    "        else:\n",
    "            x_str = str(x)\n",
    "        \n",
    "        for i in range(len(x_str)):\n",
    "            res += int(x_str[i]) * 10 ** i\n",
    "        \n",
    "        if x < 0:\n",
    "            res *= -1 \n",
    "            \n",
    "        if res > 2 ** 31 - 1 or res < -1 * 2 ** 31:\n",
    "            return 0\n",
    "        \n",
    "        return res\n",
    "        "
   ]
  },
  {
   "cell_type": "code",
   "execution_count": 5,
   "id": "21fe0f5c",
   "metadata": {
    "scrolled": true
   },
   "outputs": [
    {
     "data": {
      "text/plain": [
       "-321"
      ]
     },
     "execution_count": 5,
     "metadata": {},
     "output_type": "execute_result"
    }
   ],
   "source": [
    "# test\n",
    "\n",
    "sample = Solution()\n",
    "sample.reverse(-123)"
   ]
  },
  {
   "cell_type": "code",
   "execution_count": null,
   "id": "93a002a9",
   "metadata": {},
   "outputs": [],
   "source": []
  }
 ],
 "metadata": {
  "kernelspec": {
   "display_name": "Python 3 (ipykernel)",
   "language": "python",
   "name": "python3"
  },
  "language_info": {
   "codemirror_mode": {
    "name": "ipython",
    "version": 3
   },
   "file_extension": ".py",
   "mimetype": "text/x-python",
   "name": "python",
   "nbconvert_exporter": "python",
   "pygments_lexer": "ipython3",
   "version": "3.9.10"
  }
 },
 "nbformat": 4,
 "nbformat_minor": 5
}
