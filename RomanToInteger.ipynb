{
 "cells": [
  {
   "cell_type": "markdown",
   "id": "8c343d58",
   "metadata": {},
   "source": [
    "## Question 13: Roman to Integer"
   ]
  },
  {
   "cell_type": "markdown",
   "id": "0a02a237",
   "metadata": {},
   "source": [
    "### Description"
   ]
  },
  {
   "cell_type": "code",
   "execution_count": 1,
   "id": "d65e47cb",
   "metadata": {},
   "outputs": [
    {
     "data": {
      "text/plain": [
       "'\\nRoman numerals are represented by seven different symbols: I, V, X, L, C, D, and M.\\n\\nSymbol        Value\\nI             1\\nV             5\\nX             10\\nL             50\\nC             100\\nD             500\\nM             1000\\n\\nFor example, \\n    2 is written as II in Roman numeral, just 1 + 1.\\n    12 is written as XII, which is simply X + I + I.\\n    27 is written as XXVII, which is X + X + V + I + I.\\n\\nRoman numerals are usually written largest to smallest from left to right.\\nHowever, the numeral for four and nine are not IIII and VIIII respectively.\\nInstead, four and nine are respectively written as IV and IX.\\n\\nThis same principle applies totally to the following six instances:\\n4        IV\\n9        IX\\n40       XL\\n90       XC\\n400      CD\\n900      CM\\n\\nGive a Roman numeral, convert it to an integer.\\n'"
      ]
     },
     "execution_count": 1,
     "metadata": {},
     "output_type": "execute_result"
    }
   ],
   "source": [
    "\"\"\"\n",
    "Roman numerals are represented by seven different symbols: I, V, X, L, C, D, and M.\n",
    "\n",
    "Symbol        Value\n",
    "I             1\n",
    "V             5\n",
    "X             10\n",
    "L             50\n",
    "C             100\n",
    "D             500\n",
    "M             1000\n",
    "\n",
    "For example, \n",
    "    2 is written as II in Roman numeral, just 1 + 1.\n",
    "    12 is written as XII, which is simply X + I + I.\n",
    "    27 is written as XXVII, which is X + X + V + I + I.\n",
    "\n",
    "Roman numerals are usually written largest to smallest from left to right.\n",
    "However, the numeral for four and nine are not IIII and VIIII respectively.\n",
    "Instead, four and nine are respectively written as IV and IX.\n",
    "\n",
    "This same principle applies totally to the following six instances:\n",
    "4        IV\n",
    "9        IX\n",
    "40       XL\n",
    "90       XC\n",
    "400      CD\n",
    "900      CM\n",
    "\n",
    "Give a Roman numeral, convert it to an integer.\n",
    "\"\"\""
   ]
  },
  {
   "cell_type": "markdown",
   "id": "7e4d3e3e",
   "metadata": {},
   "source": [
    "### Example 1"
   ]
  },
  {
   "cell_type": "code",
   "execution_count": 2,
   "id": "c6d7de7d",
   "metadata": {},
   "outputs": [
    {
     "data": {
      "text/plain": [
       "\"\\nInput: s = 'III'\\nOutput: 3\\nExplanation: III = 3\\n\""
      ]
     },
     "execution_count": 2,
     "metadata": {},
     "output_type": "execute_result"
    }
   ],
   "source": [
    "\"\"\"\n",
    "Input: s = 'III'\n",
    "Output: 3\n",
    "Explanation: III = 3\n",
    "\"\"\""
   ]
  },
  {
   "cell_type": "markdown",
   "id": "0bbd4f04",
   "metadata": {},
   "source": [
    "### Example 2"
   ]
  },
  {
   "cell_type": "code",
   "execution_count": 3,
   "id": "fc6dd7e1",
   "metadata": {},
   "outputs": [
    {
     "data": {
      "text/plain": [
       "\"\\nInput: s = 'LVIII'\\nOutput: 58\\nExplanation: 58 = 50 + 5 + 3\\n\""
      ]
     },
     "execution_count": 3,
     "metadata": {},
     "output_type": "execute_result"
    }
   ],
   "source": [
    "\"\"\"\n",
    "Input: s = 'LVIII'\n",
    "Output: 58\n",
    "Explanation: 58 = 50 + 5 + 3\n",
    "\"\"\""
   ]
  },
  {
   "cell_type": "markdown",
   "id": "2fb00b58",
   "metadata": {},
   "source": [
    "### Example 3"
   ]
  },
  {
   "cell_type": "code",
   "execution_count": 4,
   "id": "c31cd8fd",
   "metadata": {},
   "outputs": [
    {
     "data": {
      "text/plain": [
       "\"\\nInput: s = 'MCMXCIV'\\nOutput: 1994\\nExplanation: 1994 = 1000 + 900 + 90 + 4\\n\""
      ]
     },
     "execution_count": 4,
     "metadata": {},
     "output_type": "execute_result"
    }
   ],
   "source": [
    "\"\"\"\n",
    "Input: s = 'MCMXCIV'\n",
    "Output: 1994\n",
    "Explanation: 1994 = 1000 + 900 + 90 + 4\n",
    "\"\"\""
   ]
  },
  {
   "cell_type": "markdown",
   "id": "9e5a635a",
   "metadata": {},
   "source": [
    "### Solution: Recursion "
   ]
  },
  {
   "cell_type": "markdown",
   "id": "1c818ae2",
   "metadata": {},
   "source": [
    "#### initialise the input Roman numerical string"
   ]
  },
  {
   "cell_type": "code",
   "execution_count": 5,
   "id": "9f23af96",
   "metadata": {},
   "outputs": [],
   "source": [
    "s = 'MCMXCIV'"
   ]
  },
  {
   "cell_type": "markdown",
   "id": "ab7b1eb9",
   "metadata": {},
   "source": [
    "#### solution function"
   ]
  },
  {
   "cell_type": "code",
   "execution_count": 6,
   "id": "b96e0021",
   "metadata": {},
   "outputs": [],
   "source": [
    "class Solution:\n",
    "    \n",
    "    def romanToInt(self, s: str) -> int:\n",
    "    \n",
    "        # initialise the number with symbol hash \n",
    "        symbol_number = {'M': 1000, 'CM': 900,\n",
    "                         'D': 500, 'CD': 400,\n",
    "                         'C': 100, 'XC': 90,\n",
    "                         'L': 50, 'XL': 40,\n",
    "                         'X': 10, 'IX': 9,\n",
    "                         'V': 5, 'IV': 4,\n",
    "                         'I': 1}\n",
    "        \n",
    "        # base case\n",
    "        if s == '':\n",
    "            return 0\n",
    "        \n",
    "        # recursive cases\n",
    "        \n",
    "        ## check the first two character \n",
    "        if s[0: 2] in symbol_number:\n",
    "            current_symbol = s[0: 2] \n",
    "            current_num = symbol_number[current_symbol]\n",
    "            current_str = s[2: ]\n",
    "\n",
    "        else:\n",
    "            current_symbol = s[0]\n",
    "            current_num = symbol_number[current_symbol]\n",
    "            current_str = s[1: ]\n",
    "            \n",
    "        return current_num + self.romanToInt(current_str)\n",
    "        \n",
    "        \n",
    "        "
   ]
  },
  {
   "cell_type": "markdown",
   "id": "7821df5f",
   "metadata": {},
   "source": [
    "#### Time complexity analysis: O(len(s))"
   ]
  },
  {
   "cell_type": "code",
   "execution_count": 7,
   "id": "408c4496",
   "metadata": {},
   "outputs": [
    {
     "data": {
      "text/plain": [
       "'\\nThe recursion algorithm runs the length of the input Roman numeral times for the worst case.\\nTherefore, the time complexity is O(n), where n equals to len(s).\\n'"
      ]
     },
     "execution_count": 7,
     "metadata": {},
     "output_type": "execute_result"
    }
   ],
   "source": [
    "\"\"\"\n",
    "The recursion algorithm runs the length of the input Roman numeral times for the worst case.\n",
    "Therefore, the time complexity is O(n), where n equals to len(s).\n",
    "\"\"\""
   ]
  },
  {
   "cell_type": "markdown",
   "id": "4cbd656a",
   "metadata": {},
   "source": [
    "#### Space complexity analysis: O(1)"
   ]
  },
  {
   "cell_type": "code",
   "execution_count": 8,
   "id": "2dac89f6",
   "metadata": {},
   "outputs": [
    {
     "data": {
      "text/plain": [
       "'\\nThe recursion algorithm only use the fixed space of memory for the initialised dictionary.\\nTherefore, the space complexity is constant, O(1).\\n'"
      ]
     },
     "execution_count": 8,
     "metadata": {},
     "output_type": "execute_result"
    }
   ],
   "source": [
    "\"\"\"\n",
    "The recursion algorithm only use the fixed space of memory for the initialised dictionary.\n",
    "Therefore, the space complexity is constant, O(1).\n",
    "\"\"\""
   ]
  },
  {
   "cell_type": "code",
   "execution_count": null,
   "id": "50260b60",
   "metadata": {},
   "outputs": [],
   "source": []
  }
 ],
 "metadata": {
  "kernelspec": {
   "display_name": "Python 3 (ipykernel)",
   "language": "python",
   "name": "python3"
  },
  "language_info": {
   "codemirror_mode": {
    "name": "ipython",
    "version": 3
   },
   "file_extension": ".py",
   "mimetype": "text/x-python",
   "name": "python",
   "nbconvert_exporter": "python",
   "pygments_lexer": "ipython3",
   "version": "3.9.10"
  }
 },
 "nbformat": 4,
 "nbformat_minor": 5
}
