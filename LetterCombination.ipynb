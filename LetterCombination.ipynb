{
 "cells": [
  {
   "cell_type": "markdown",
   "id": "354f6365",
   "metadata": {},
   "source": [
    "## Question 17: Letter Combination of a Phone Number"
   ]
  },
  {
   "cell_type": "markdown",
   "id": "e233a005",
   "metadata": {},
   "source": [
    "### Description"
   ]
  },
  {
   "cell_type": "code",
   "execution_count": 1,
   "id": "d09eba65",
   "metadata": {},
   "outputs": [
    {
     "data": {
      "text/plain": [
       "'\\nGiven a string containing digits from 2-9 inclusive. \\n\\nReturn all possible letter combinations that the number could represent.\\nReturn the anser in any order.\\n\\nA mapping of digit to letters (just like on the telephone buttons) is given below. \\n(Note that 1 does not map to any letter)\\n\\n1: none        2: abc        3: def\\n4: ghi         5: jkl        6: mno\\n7: pqrs        8: tuv        9: wxyz\\n               0: none\\n'"
      ]
     },
     "execution_count": 1,
     "metadata": {},
     "output_type": "execute_result"
    }
   ],
   "source": [
    "\"\"\"\n",
    "Given a string containing digits from 2-9 inclusive. \n",
    "\n",
    "Return all possible letter combinations that the number could represent.\n",
    "Return the anser in any order.\n",
    "\n",
    "A mapping of digit to letters (just like on the telephone buttons) is given below. \n",
    "(Note that 1 does not map to any letter)\n",
    "\n",
    "1: none        2: abc        3: def\n",
    "4: ghi         5: jkl        6: mno\n",
    "7: pqrs        8: tuv        9: wxyz\n",
    "               0: none\n",
    "\"\"\""
   ]
  },
  {
   "cell_type": "markdown",
   "id": "57b09bd5",
   "metadata": {},
   "source": [
    "### Example 1"
   ]
  },
  {
   "cell_type": "code",
   "execution_count": 2,
   "id": "a9ca813e",
   "metadata": {},
   "outputs": [
    {
     "data": {
      "text/plain": [
       "'\\nInput: digits = \"23\"\\nOutput: [\\'ad\\', \\'ae\\', \\'af\\', \\'bd\\', \\'be\\', \\'bf\\', \\'cd\\', \\'ce\\', \\'cf\\']\\n'"
      ]
     },
     "execution_count": 2,
     "metadata": {},
     "output_type": "execute_result"
    }
   ],
   "source": [
    "\"\"\"\n",
    "Input: digits = \"23\"\n",
    "Output: ['ad', 'ae', 'af', 'bd', 'be', 'bf', 'cd', 'ce', 'cf']\n",
    "\"\"\""
   ]
  },
  {
   "cell_type": "markdown",
   "id": "2e883af5",
   "metadata": {},
   "source": [
    "### Example 2"
   ]
  },
  {
   "cell_type": "code",
   "execution_count": 3,
   "id": "515d1324",
   "metadata": {},
   "outputs": [
    {
     "data": {
      "text/plain": [
       "'\\nInput: digits = \"\"\\nOutput: []\\n'"
      ]
     },
     "execution_count": 3,
     "metadata": {},
     "output_type": "execute_result"
    }
   ],
   "source": [
    "\"\"\"\n",
    "Input: digits = \"\"\n",
    "Output: []\n",
    "\"\"\""
   ]
  },
  {
   "cell_type": "markdown",
   "id": "22060e92",
   "metadata": {},
   "source": [
    "### Example 3"
   ]
  },
  {
   "cell_type": "code",
   "execution_count": 4,
   "id": "dde8d9d3",
   "metadata": {},
   "outputs": [
    {
     "data": {
      "text/plain": [
       "'\\nInput: digits = \"2\"\\nOutput: [\\'a\\', \\'b\\', \\'c\\']\\n'"
      ]
     },
     "execution_count": 4,
     "metadata": {},
     "output_type": "execute_result"
    }
   ],
   "source": [
    "\"\"\"\n",
    "Input: digits = \"2\"\n",
    "Output: ['a', 'b', 'c']\n",
    "\"\"\""
   ]
  },
  {
   "cell_type": "markdown",
   "id": "cbcdc740",
   "metadata": {},
   "source": [
    "### Solution: DFS recursion"
   ]
  },
  {
   "cell_type": "markdown",
   "id": "cb725753",
   "metadata": {},
   "source": [
    "#### Algorithm"
   ]
  },
  {
   "cell_type": "code",
   "execution_count": 3,
   "id": "356bd710",
   "metadata": {},
   "outputs": [
    {
     "data": {
      "text/plain": [
       "\"\\n. initialise a hash_dictionary\\n    {'2': 'abc', '3': 'def', '4': 'ghi', '5': 'jkl', '6': 'mno', '7': 'pqrs', '8': 'tuv', '9': 'wxyz'}\\n. edge: when the input digits string is empty, return empty list\\n. initialise parameters\\n    . a list that is used to push and pop the strings during iteration\\n    . a result list\\n    . the length of the input digits string\\n. iterate the stack list, while the length of the stack list is not 0\\n    . pop the stack list, assign it as the current string to be checked\\n    . if the length of the current popped string equals to the length of the input\\n        . it is a possible answer\\n    . else\\n        . assign the index of the input string to be iterated as the length of the current string\\n            (# for instance, when the current is empty, '', the index to be iterated should be 0, the first digit)\\n        . obtain the corresponding letters by indexing the hash dictionary\\n        . iterate the obtained letters \\n            . join the letter to the current string\\n            . append it into the stack\\n. return answer\\n\""
      ]
     },
     "execution_count": 3,
     "metadata": {},
     "output_type": "execute_result"
    }
   ],
   "source": [
    "\"\"\"\n",
    ". initialise a hash_dictionary\n",
    "    {'2': 'abc', '3': 'def', '4': 'ghi', '5': 'jkl', '6': 'mno', '7': 'pqrs', '8': 'tuv', '9': 'wxyz'}\n",
    ". edge: when the input digits string is empty, return empty list\n",
    ". initialise parameters\n",
    "    . a list that is used to push and pop the strings during iteration\n",
    "    . a result list\n",
    "    . the length of the input digits string\n",
    ". iterate the stack list, while the length of the stack list is not 0\n",
    "    . pop the stack list, assign it as the current string to be checked\n",
    "    . if the length of the current popped string equals to the length of the input\n",
    "        . it is a possible answer\n",
    "    . else\n",
    "        . assign the index of the input string to be iterated as the length of the current string\n",
    "            (# for instance, when the current is empty, '', the index to be iterated should be 0, the first digit)\n",
    "        . obtain the corresponding letters by indexing the hash dictionary\n",
    "        . iterate the obtained letters \n",
    "            . join the letter to the current string\n",
    "            . append it into the stack\n",
    ". return answer\n",
    "\"\"\""
   ]
  },
  {
   "cell_type": "markdown",
   "id": "c515bb2e",
   "metadata": {},
   "source": [
    "#### Solution function"
   ]
  },
  {
   "cell_type": "code",
   "execution_count": 4,
   "id": "63cb26e3",
   "metadata": {},
   "outputs": [],
   "source": [
    "class Solution:\n",
    "    def letterCombinations(self, digits: str) -> list[str]:\n",
    "        \n",
    "        hash_dictionary = {'2': 'abc', '3': 'def', '4': 'ghi', \n",
    "                           '5': 'jkl', '6': 'mno', '7': 'pqrs', \n",
    "                           '8': 'tuv', '9': 'wxyz'}\n",
    "        \n",
    "        if len(digits) == 0:\n",
    "            return []\n",
    "        \n",
    "        stack_list = [\"\"]\n",
    "        res = []\n",
    "        input_length = len(digits)\n",
    "        \n",
    "        while len(stack_list) > 0:\n",
    "            \n",
    "            current_string = stack_list.pop()\n",
    "            \n",
    "            if len(current_string) == len(digits):\n",
    "                res.append(current_string)\n",
    "            \n",
    "            else:\n",
    "                current_index = len(current_string)\n",
    "                current_letters = hash_dictionary[digits[current_index]]\n",
    "                \n",
    "                for letter in current_letters:\n",
    "                    stack_list.append(current + letter)\n",
    "        \n",
    "        return res\n",
    "                \n",
    "        \n",
    "        \n",
    "            \n",
    "            "
   ]
  },
  {
   "cell_type": "markdown",
   "id": "bb474266",
   "metadata": {},
   "source": [
    "### Time Complexity analysis"
   ]
  },
  {
   "cell_type": "code",
   "execution_count": 6,
   "id": "eece762d",
   "metadata": {},
   "outputs": [
    {
     "data": {
      "text/plain": [
       "'\\nO(4**n): the stack list may contain 4**n string elements for the worst case \\nwhere the input digit string only contains 7 or 9.\\nThen there should be O(4 ** n) operation times\\n'"
      ]
     },
     "execution_count": 6,
     "metadata": {},
     "output_type": "execute_result"
    }
   ],
   "source": [
    "\"\"\"\n",
    "O(4**n): the stack list may contain 4**n string elements for the worst case \n",
    "where the input digit string only contains 7 or 9.\n",
    "Then there should be O(4 ** n) operation times\n",
    "\"\"\""
   ]
  },
  {
   "cell_type": "code",
   "execution_count": null,
   "id": "58c93df4",
   "metadata": {},
   "outputs": [],
   "source": []
  }
 ],
 "metadata": {
  "kernelspec": {
   "display_name": "Python 3 (ipykernel)",
   "language": "python",
   "name": "python3"
  },
  "language_info": {
   "codemirror_mode": {
    "name": "ipython",
    "version": 3
   },
   "file_extension": ".py",
   "mimetype": "text/x-python",
   "name": "python",
   "nbconvert_exporter": "python",
   "pygments_lexer": "ipython3",
   "version": "3.9.12"
  }
 },
 "nbformat": 4,
 "nbformat_minor": 5
}
