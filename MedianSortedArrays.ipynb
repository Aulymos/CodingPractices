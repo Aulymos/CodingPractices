{
 "cells": [
  {
   "cell_type": "markdown",
   "id": "05055739",
   "metadata": {},
   "source": [
    "## Question 4: Median of Two Sorted Repeating Characters"
   ]
  },
  {
   "cell_type": "markdown",
   "id": "3c8ab7f8",
   "metadata": {},
   "source": [
    "### Given two sorted arrays nums1 and nums2 of size m and n respectively, \n",
    "### return the median of the two sorted arrays"
   ]
  },
  {
   "cell_type": "markdown",
   "id": "0cdf55e6",
   "metadata": {},
   "source": [
    "### example\n",
    "### Input: nums1 = [1, 3], nums2 = [2]\n",
    "### Output: 2.00000"
   ]
  },
  {
   "cell_type": "code",
   "execution_count": 1,
   "id": "afdf9e74",
   "metadata": {},
   "outputs": [],
   "source": [
    "class Solution:\n",
    "    def findMedianSortedArrays(self, nums1, nums2):\n",
    "        \n",
    "        nums = sorted(nums1 + nums2)\n",
    "        \n",
    "        if len(nums) == 0:\n",
    "            return 0\n",
    "        \n",
    "        if len(nums) % 2 == 0:\n",
    "            return (nums[len(nums) // 2] + nums[len(nums) // 2 - 1]) / 2\n",
    "        else:\n",
    "            return nums[len(nums) // 2]"
   ]
  },
  {
   "cell_type": "code",
   "execution_count": null,
   "id": "c1ecdd3b",
   "metadata": {},
   "outputs": [],
   "source": []
  }
 ],
 "metadata": {
  "kernelspec": {
   "display_name": "Python 3 (ipykernel)",
   "language": "python",
   "name": "python3"
  },
  "language_info": {
   "codemirror_mode": {
    "name": "ipython",
    "version": 3
   },
   "file_extension": ".py",
   "mimetype": "text/x-python",
   "name": "python",
   "nbconvert_exporter": "python",
   "pygments_lexer": "ipython3",
   "version": "3.9.10"
  }
 },
 "nbformat": 4,
 "nbformat_minor": 5
}
