{
 "cells": [
  {
   "cell_type": "markdown",
   "id": "7529fd0f",
   "metadata": {},
   "source": [
    "## Question 12: Integer to Roman"
   ]
  },
  {
   "cell_type": "markdown",
   "id": "314ab6da",
   "metadata": {},
   "source": [
    "### Description"
   ]
  },
  {
   "cell_type": "code",
   "execution_count": 1,
   "id": "e8bc4ebf",
   "metadata": {},
   "outputs": [
    {
     "data": {
      "text/plain": [
       "'\\nRoman numerals are represented by seven different symbols: I, V, X, L, C, D and M.\\n\\nSymbol        Value\\nI             1\\nV             5\\nX             10\\nL             50\\nC             100\\nD             500\\nM             1000\\n\\nFor example, 2 is written as II in Roman, just I + I.\\n12 is written as XII, which is simply X + I + I. \\nThe number 27 is written as XXVII, which is XX + V + I + I.\\n\\nRoman numerals are usually written largest to smallest from left to right.\\n\\nHowever, the numeral for four is not IIII. Because the one is before the five we sbstract it making four.\\nThe same principle applies to the number nine, which is written as IX. \\n\\nThere are six instances where substraction is used:\\n\\n1. I can be placed before V (5) and X (10) to make 4 and 9\\n2. X can be placed before L (50) and C(100) to make 40 and 90\\n3. C can be placed before D (500) and M (1000) to make 400 and 900\\n\\nGive an integer, convert it to a Roman numeral.\\n'"
      ]
     },
     "execution_count": 1,
     "metadata": {},
     "output_type": "execute_result"
    }
   ],
   "source": [
    "\"\"\"\n",
    "Roman numerals are represented by seven different symbols: I, V, X, L, C, D and M.\n",
    "\n",
    "Symbol        Value\n",
    "I             1\n",
    "V             5\n",
    "X             10\n",
    "L             50\n",
    "C             100\n",
    "D             500\n",
    "M             1000\n",
    "\n",
    "For example, 2 is written as II in Roman, just I + I.\n",
    "12 is written as XII, which is simply X + I + I. \n",
    "The number 27 is written as XXVII, which is XX + V + I + I.\n",
    "\n",
    "Roman numerals are usually written largest to smallest from left to right.\n",
    "\n",
    "However, the numeral for four is not IIII. Because the one is before the five we sbstract it making four.\n",
    "The same principle applies to the number nine, which is written as IX. \n",
    "\n",
    "There are six instances where substraction is used:\n",
    "\n",
    "1. I can be placed before V (5) and X (10) to make 4 and 9\n",
    "2. X can be placed before L (50) and C(100) to make 40 and 90\n",
    "3. C can be placed before D (500) and M (1000) to make 400 and 900\n",
    "\n",
    "Give an integer, convert it to a Roman numeral.\n",
    "\"\"\""
   ]
  },
  {
   "cell_type": "markdown",
   "id": "eb3607a4",
   "metadata": {},
   "source": [
    "### Example 1"
   ]
  },
  {
   "cell_type": "code",
   "execution_count": 2,
   "id": "b7cfb5e6",
   "metadata": {},
   "outputs": [
    {
     "data": {
      "text/plain": [
       "'\\nInput: num = 3\\nOutput: \"III\"\\nExplanation: 3 is represented as 3 ones.\\n'"
      ]
     },
     "execution_count": 2,
     "metadata": {},
     "output_type": "execute_result"
    }
   ],
   "source": [
    "\"\"\"\n",
    "Input: num = 3\n",
    "Output: \"III\"\n",
    "Explanation: 3 is represented as 3 ones.\n",
    "\"\"\""
   ]
  },
  {
   "cell_type": "markdown",
   "id": "dbf39aac",
   "metadata": {},
   "source": [
    "### Example 2"
   ]
  },
  {
   "cell_type": "code",
   "execution_count": 3,
   "id": "eaac60ff",
   "metadata": {},
   "outputs": [
    {
     "data": {
      "text/plain": [
       "'\\nInput: num = 58\\nOutput: \"LVIII\"\\nExplanation: 58 = 50 (L) + 5 (V) + 1 (I) + 1 (I) + 1 (I)\\n'"
      ]
     },
     "execution_count": 3,
     "metadata": {},
     "output_type": "execute_result"
    }
   ],
   "source": [
    "\"\"\"\n",
    "Input: num = 58\n",
    "Output: \"LVIII\"\n",
    "Explanation: 58 = 50 (L) + 5 (V) + 1 (I) + 1 (I) + 1 (I)\n",
    "\"\"\""
   ]
  },
  {
   "cell_type": "markdown",
   "id": "590137e1",
   "metadata": {},
   "source": [
    "### Example 3"
   ]
  },
  {
   "cell_type": "code",
   "execution_count": 4,
   "id": "5d31a5e7",
   "metadata": {},
   "outputs": [
    {
     "data": {
      "text/plain": [
       "'\\nInput: num = 1994\\nOutput: \"MCMXCIV\"\\nExplanation: 1994 = 1000 (M) + 900 (1000 - 100) (CM) + 90 (100 - 10) (XC) + 4 (5 - 1) (IV)\\n'"
      ]
     },
     "execution_count": 4,
     "metadata": {},
     "output_type": "execute_result"
    }
   ],
   "source": [
    "\"\"\"\n",
    "Input: num = 1994\n",
    "Output: \"MCMXCIV\"\n",
    "Explanation: 1994 = 1000 (M) + 900 (1000 - 100) (CM) + 90 (100 - 10) (XC) + 4 (5 - 1) (IV)\n",
    "\"\"\""
   ]
  },
  {
   "cell_type": "markdown",
   "id": "1bb9ee75",
   "metadata": {},
   "source": [
    "### Solution: Descent Search for the largest  fitted symbol"
   ]
  },
  {
   "cell_type": "markdown",
   "id": "0760c0d0",
   "metadata": {},
   "source": [
    "#### initialize the input integer"
   ]
  },
  {
   "cell_type": "code",
   "execution_count": 5,
   "id": "6c39a2dd",
   "metadata": {},
   "outputs": [],
   "source": [
    "num = 1994"
   ]
  },
  {
   "cell_type": "markdown",
   "id": "6acf4514",
   "metadata": {},
   "source": [
    "#### Solution function"
   ]
  },
  {
   "cell_type": "code",
   "execution_count": 3,
   "id": "6c53314c",
   "metadata": {},
   "outputs": [],
   "source": [
    "class Solution:\n",
    "    def intToRoman(self, num: int) -> str:\n",
    "        \n",
    "        # initialse the list consisting of num-symbol tumples for descenting iteration\n",
    "        num_symbols = [(1000, 'M'), (900, 'CM'), \n",
    "                         (500, 'D'), (400, 'CD'), \n",
    "                         (100, 'C'), (90, 'XC'), \n",
    "                         (50, 'L'), (40, 'XL'), \n",
    "                         (10, 'X'), (9, 'IX'),\n",
    "                         (5, 'V'), (4, 'IV'),\n",
    "                         (1, 'I')]\n",
    "        \n",
    "        # initialise the result string\n",
    "        res_str = ''\n",
    "        \n",
    "        # Descenting iteration\n",
    "        for (num_value, symbol) in num_symbols:\n",
    "            \n",
    "            # stop iteration \n",
    "            if num == 0:\n",
    "                break\n",
    "            \n",
    "            # obtain the current highest order digit \n",
    "            num_digit = num // num_value\n",
    "            \n",
    "            # obtain the symbol representing this digit\n",
    "            res_str += num_digit * symbol\n",
    "            \n",
    "            # update the residual numerical\n",
    "            num = num % num_value\n",
    "            \n",
    "        return res_str\n",
    "        "
   ]
  },
  {
   "cell_type": "code",
   "execution_count": 4,
   "id": "59ba2cc4",
   "metadata": {},
   "outputs": [],
   "source": [
    "sample = Solution()"
   ]
  },
  {
   "cell_type": "code",
   "execution_count": 5,
   "id": "c74a2aa0",
   "metadata": {},
   "outputs": [
    {
     "data": {
      "text/plain": [
       "'MCMXCIV'"
      ]
     },
     "execution_count": 5,
     "metadata": {},
     "output_type": "execute_result"
    }
   ],
   "source": [
    "sample.intToRoman(1994)"
   ]
  },
  {
   "cell_type": "markdown",
   "id": "88625fa8",
   "metadata": {},
   "source": [
    "### Time Complexity Analysis: O(1)"
   ]
  },
  {
   "cell_type": "code",
   "execution_count": 6,
   "id": "72ccea0d",
   "metadata": {},
   "outputs": [
    {
     "data": {
      "text/plain": [
       "'\\nThe time for running the iteration is 15 times since there is constant length of the structure to be iterated. \\nTherefore, we say the time complexity is constant, O(1).\\n'"
      ]
     },
     "execution_count": 6,
     "metadata": {},
     "output_type": "execute_result"
    }
   ],
   "source": [
    "\"\"\"\n",
    "The time for running the iteration is 15 times since there is constant length of the structure to be iterated. \n",
    "Therefore, we say the time complexity is constant, O(1).\n",
    "\"\"\""
   ]
  },
  {
   "cell_type": "markdown",
   "id": "6e22e303",
   "metadata": {},
   "source": [
    "### Space Complexity Analysis: O(1)"
   ]
  },
  {
   "cell_type": "code",
   "execution_count": 7,
   "id": "01796b1e",
   "metadata": {},
   "outputs": [
    {
     "data": {
      "text/plain": [
       "'\\nThe amount of memory will not change with the size of the input integer.\\nTherefore, the space complexity is constant, O(1)\\n'"
      ]
     },
     "execution_count": 7,
     "metadata": {},
     "output_type": "execute_result"
    }
   ],
   "source": [
    "\"\"\"\n",
    "The amount of memory will not change with the size of the input integer.\n",
    "Therefore, the space complexity is constant, O(1)\n",
    "\"\"\""
   ]
  },
  {
   "cell_type": "code",
   "execution_count": null,
   "id": "ca76a032",
   "metadata": {},
   "outputs": [],
   "source": []
  }
 ],
 "metadata": {
  "kernelspec": {
   "display_name": "Python 3 (ipykernel)",
   "language": "python",
   "name": "python3"
  },
  "language_info": {
   "codemirror_mode": {
    "name": "ipython",
    "version": 3
   },
   "file_extension": ".py",
   "mimetype": "text/x-python",
   "name": "python",
   "nbconvert_exporter": "python",
   "pygments_lexer": "ipython3",
   "version": "3.9.10"
  }
 },
 "nbformat": 4,
 "nbformat_minor": 5
}
