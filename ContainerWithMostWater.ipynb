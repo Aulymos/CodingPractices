{
 "cells": [
  {
   "cell_type": "markdown",
   "id": "f9fbd5ae",
   "metadata": {},
   "source": [
    "## Question 11: Container with Most Water"
   ]
  },
  {
   "cell_type": "markdown",
   "id": "8098735a",
   "metadata": {},
   "source": [
    "### Description"
   ]
  },
  {
   "cell_type": "code",
   "execution_count": 1,
   "id": "42d65773",
   "metadata": {},
   "outputs": [
    {
     "data": {
      "text/plain": [
       "'\\nYou are given an integer array height of length n. \\nThere are n vertical lines drawn such that the two endpoints of the ith line are (i, 0) and (i, height[i]) .\\n\\nFind two lines that together with the x-axis form a container, such that the container contains the most water.\\n\\nReturn the maximum amount of water a container can store.\\n'"
      ]
     },
     "execution_count": 1,
     "metadata": {},
     "output_type": "execute_result"
    }
   ],
   "source": [
    "\"\"\"\n",
    "You are given an integer array height of length n. \n",
    "There are n vertical lines drawn such that the two endpoints of the ith line are (i, 0) and (i, height[i]) .\n",
    "\n",
    "Find two lines that together with the x-axis form a container, such that the container contains the most water.\n",
    "\n",
    "Return the maximum amount of water a container can store.\n",
    "\"\"\""
   ]
  },
  {
   "cell_type": "markdown",
   "id": "60e91427",
   "metadata": {},
   "source": [
    "### Example 1"
   ]
  },
  {
   "cell_type": "code",
   "execution_count": 2,
   "id": "17d335b3",
   "metadata": {},
   "outputs": [
    {
     "data": {
      "text/plain": [
       "'\\nInput: height = [1, 8, 6, 2, 5, 4, 8, 3, 7]\\nOutput: 49\\nExplanation: The above vertical lines are represented by array [1, 8, 6, 2, 5, 4, 8, 3, 7]. \\n             In this case, the max area of water the container can contain is 49.\\n'"
      ]
     },
     "execution_count": 2,
     "metadata": {},
     "output_type": "execute_result"
    }
   ],
   "source": [
    "\"\"\"\n",
    "Input: height = [1, 8, 6, 2, 5, 4, 8, 3, 7]\n",
    "Output: 49\n",
    "Explanation: The above vertical lines are represented by array [1, 8, 6, 2, 5, 4, 8, 3, 7]. \n",
    "             In this case, the max area of water the container can contain is 49.\n",
    "\"\"\""
   ]
  },
  {
   "cell_type": "markdown",
   "id": "e76a8776",
   "metadata": {},
   "source": [
    "### Example 2"
   ]
  },
  {
   "cell_type": "code",
   "execution_count": 3,
   "id": "8184fe0c",
   "metadata": {},
   "outputs": [
    {
     "data": {
      "text/plain": [
       "'\\nInput: height = [1, 1]\\nOutput: 1\\n'"
      ]
     },
     "execution_count": 3,
     "metadata": {},
     "output_type": "execute_result"
    }
   ],
   "source": [
    "\"\"\"\n",
    "Input: height = [1, 1]\n",
    "Output: 1\n",
    "\"\"\""
   ]
  },
  {
   "cell_type": "markdown",
   "id": "de4de874",
   "metadata": {},
   "source": [
    "### Solution 1: Brute Force - O(n**2)"
   ]
  },
  {
   "cell_type": "markdown",
   "id": "5a2a5e24",
   "metadata": {},
   "source": [
    "#### initialise the height array"
   ]
  },
  {
   "cell_type": "code",
   "execution_count": 8,
   "id": "a4206b90",
   "metadata": {},
   "outputs": [],
   "source": [
    "height = [1, 8, 6, 2, 5, 4, 8, 3, 7]"
   ]
  },
  {
   "cell_type": "markdown",
   "id": "8e01c450",
   "metadata": {},
   "source": [
    "#### initiailise the maximum area parameter"
   ]
  },
  {
   "cell_type": "code",
   "execution_count": 9,
   "id": "44d3431c",
   "metadata": {},
   "outputs": [],
   "source": [
    "max_area = 0"
   ]
  },
  {
   "cell_type": "markdown",
   "id": "8f9ee4c9",
   "metadata": {},
   "source": [
    "#### iterate the height array, find all the possible container areas to update the maximum container area"
   ]
  },
  {
   "cell_type": "code",
   "execution_count": 10,
   "id": "41a1d11d",
   "metadata": {},
   "outputs": [
    {
     "name": "stdout",
     "output_type": "stream",
     "text": [
      "49\n"
     ]
    }
   ],
   "source": [
    "for i in range(len(height) - 1):\n",
    "    for j in range(i + 1, len(height)):\n",
    "        \n",
    "        current_width = j - i\n",
    "        current_height = min(height[i], height[j])\n",
    "        current_area = current_width * current_height\n",
    "        max_area = max(max_area, current_area)\n",
    "\n",
    "print(max_area)\n",
    "    "
   ]
  },
  {
   "cell_type": "markdown",
   "id": "4b3a4bac",
   "metadata": {},
   "source": [
    "#### Solution function"
   ]
  },
  {
   "cell_type": "code",
   "execution_count": 12,
   "id": "84123464",
   "metadata": {},
   "outputs": [],
   "source": [
    "class Solution1:\n",
    "    def maxArea(self, height: list[int]) -> int:\n",
    "        \n",
    "        max_area = 0\n",
    "        \n",
    "        for i in range(len(height) - 1):\n",
    "            for j in range(len(height)):\n",
    "                \n",
    "                current_width = j - i\n",
    "                current_height = min(height[i], height[j])\n",
    "                \n",
    "                current_area = current_width * current_height\n",
    "                \n",
    "                max_area = max(max_area, current_area)\n",
    "        \n",
    "        return max_area"
   ]
  },
  {
   "cell_type": "markdown",
   "id": "5e3f65bb",
   "metadata": {},
   "source": [
    "### Solution 2: Two pointers"
   ]
  },
  {
   "cell_type": "markdown",
   "id": "3c40e523",
   "metadata": {},
   "source": [
    "#### initialise the height array"
   ]
  },
  {
   "cell_type": "code",
   "execution_count": 13,
   "id": "6308c7f4",
   "metadata": {},
   "outputs": [],
   "source": [
    "height = [1, 8, 6, 2, 5, 4, 8, 3, 7]"
   ]
  },
  {
   "cell_type": "markdown",
   "id": "9485d9ef",
   "metadata": {},
   "source": [
    "#### initialise the maximum area"
   ]
  },
  {
   "cell_type": "code",
   "execution_count": 14,
   "id": "e1e66ae2",
   "metadata": {},
   "outputs": [],
   "source": [
    "max_area = 0"
   ]
  },
  {
   "cell_type": "markdown",
   "id": "88ab23bd",
   "metadata": {},
   "source": [
    "#### initialise the two pointers "
   ]
  },
  {
   "cell_type": "code",
   "execution_count": 15,
   "id": "32eb9e59",
   "metadata": {},
   "outputs": [],
   "source": [
    "head, tail = 0, len(height) - 1"
   ]
  },
  {
   "cell_type": "markdown",
   "id": "920add2c",
   "metadata": {},
   "source": [
    "#### the iteration method"
   ]
  },
  {
   "cell_type": "code",
   "execution_count": 16,
   "id": "13f0f8cb",
   "metadata": {},
   "outputs": [
    {
     "data": {
      "text/plain": [
       "'\\n1. Set the head and tail be indices of the left and right lines\\n2. for each iteration, move the lower line to the higher one close to it and compare the new area with the previous \\n3. stop the iteration when head >= tail\\n'"
      ]
     },
     "execution_count": 16,
     "metadata": {},
     "output_type": "execute_result"
    }
   ],
   "source": [
    "\"\"\"\n",
    "1. Set the head and tail be indices of the left and right lines\n",
    "2. for each iteration, move the lower line to the higher one close to it and compare the new area with the previous \n",
    "3. stop the iteration when head >= tail\n",
    "\"\"\""
   ]
  },
  {
   "cell_type": "markdown",
   "id": "b7a2f2c7",
   "metadata": {},
   "source": [
    "#### solution function"
   ]
  },
  {
   "cell_type": "code",
   "execution_count": 17,
   "id": "f3849f84",
   "metadata": {},
   "outputs": [],
   "source": [
    "class Solution:\n",
    "    def maxArea(self, height: list[int]) -> int:\n",
    "        \n",
    "        max_area = 0\n",
    "        head, tail = 0, len(height) - 1\n",
    "        \n",
    "        while(head < tail):\n",
    "            \n",
    "            # calculate the current area\n",
    "            current_width = tail - head\n",
    "            current_height = min(height[tail], height[head])\n",
    "            current_area = current_width * current_height\n",
    "            \n",
    "            # update the maximum area for the current step\n",
    "            max_area = max(current_area, max_area)\n",
    "            \n",
    "            # assign the pointer to be moved\n",
    "            if height[head] < height[tail]:\n",
    "                head += 1\n",
    "            else:\n",
    "                tail -= 1\n",
    "        \n",
    "        return max_area"
   ]
  },
  {
   "cell_type": "code",
   "execution_count": 18,
   "id": "e4770d6e",
   "metadata": {},
   "outputs": [],
   "source": [
    "sample = Solution()"
   ]
  },
  {
   "cell_type": "code",
   "execution_count": 19,
   "id": "65f44317",
   "metadata": {},
   "outputs": [
    {
     "data": {
      "text/plain": [
       "49"
      ]
     },
     "execution_count": 19,
     "metadata": {},
     "output_type": "execute_result"
    }
   ],
   "source": [
    "sample.maxArea([1, 8, 6, 2, 5, 4, 8, 3, 7])"
   ]
  },
  {
   "cell_type": "code",
   "execution_count": null,
   "id": "f1a359ec",
   "metadata": {},
   "outputs": [],
   "source": []
  }
 ],
 "metadata": {
  "kernelspec": {
   "display_name": "Python 3 (ipykernel)",
   "language": "python",
   "name": "python3"
  },
  "language_info": {
   "codemirror_mode": {
    "name": "ipython",
    "version": 3
   },
   "file_extension": ".py",
   "mimetype": "text/x-python",
   "name": "python",
   "nbconvert_exporter": "python",
   "pygments_lexer": "ipython3",
   "version": "3.9.10"
  }
 },
 "nbformat": 4,
 "nbformat_minor": 5
}
