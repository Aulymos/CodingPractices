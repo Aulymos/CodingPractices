{
 "cells": [
  {
   "cell_type": "markdown",
   "id": "a4d73fbb",
   "metadata": {},
   "source": [
    "## Problem 6: Zigzag Conversion"
   ]
  },
  {
   "cell_type": "markdown",
   "id": "bb035a4f",
   "metadata": {},
   "source": [
    "### The string \"PAYPALISHIRING\" is written in a zigzag pattern on a given number of rows like this:"
   ]
  },
  {
   "cell_type": "code",
   "execution_count": 1,
   "id": "5abbee19",
   "metadata": {
    "collapsed": true
   },
   "outputs": [
    {
     "data": {
      "text/plain": [
       "'\\nP   A   H   N\\nA P L S I I G\\nY   I   R\\n'"
      ]
     },
     "execution_count": 1,
     "metadata": {},
     "output_type": "execute_result"
    }
   ],
   "source": [
    "\"\"\"\n",
    "P   A   H   N\n",
    "A P L S I I G\n",
    "Y   I   R\n",
    "\"\"\""
   ]
  },
  {
   "cell_type": "markdown",
   "id": "31b536a8",
   "metadata": {},
   "source": [
    "### And then read line by line: \"PAHNAPLISIIGYIR\""
   ]
  },
  {
   "cell_type": "markdown",
   "id": "a7b8fe72",
   "metadata": {},
   "source": [
    "### write the code that will take a string and make this conversion given a number of rows"
   ]
  },
  {
   "cell_type": "markdown",
   "id": "9445334c",
   "metadata": {},
   "source": [
    "### example 1:\n",
    "### Input: s = \"PAYPALISHIRING\", numRows = 3\n",
    "### Output: \"PAHNAPLISIIGYIR\""
   ]
  },
  {
   "cell_type": "markdown",
   "id": "a56020cb",
   "metadata": {},
   "source": [
    "### example 2: \n",
    "### Input: \"PAYPALISHIRING\", numRows = 4\n",
    "### Output: \"PINALSIGYAHRPI\""
   ]
  },
  {
   "cell_type": "markdown",
   "id": "4c2d6f7a",
   "metadata": {},
   "source": [
    "### example 3: \n",
    "### Input: \"A\", numRows = 1\n",
    "### Output: \"A\""
   ]
  },
  {
   "cell_type": "markdown",
   "id": "bb259685",
   "metadata": {},
   "source": [
    "### Solution: hash "
   ]
  },
  {
   "cell_type": "markdown",
   "id": "32eba261",
   "metadata": {},
   "source": [
    "#### define a string for trying"
   ]
  },
  {
   "cell_type": "code",
   "execution_count": 54,
   "id": "b4f17c39",
   "metadata": {},
   "outputs": [],
   "source": [
    "s = \"PAYPALISHIRING\"\n",
    "expected_result = \"PINALSIGYAHRPI\""
   ]
  },
  {
   "cell_type": "markdown",
   "id": "03584441",
   "metadata": {},
   "source": [
    "#### define the number of rows"
   ]
  },
  {
   "cell_type": "code",
   "execution_count": 45,
   "id": "1b87ff72",
   "metadata": {},
   "outputs": [],
   "source": [
    "numRows = 4"
   ]
  },
  {
   "cell_type": "code",
   "execution_count": 46,
   "id": "f311ca30",
   "metadata": {},
   "outputs": [
    {
     "data": {
      "text/plain": [
       "'\\nP      I       N\\nA   L  S    I  G\\nY A    H  R    \\nP      I\\n'"
      ]
     },
     "execution_count": 46,
     "metadata": {},
     "output_type": "execute_result"
    }
   ],
   "source": [
    "\"\"\"\n",
    "P      I       N\n",
    "A   L  S    I  G\n",
    "Y A    H  R    \n",
    "P      I\n",
    "\"\"\""
   ]
  },
  {
   "cell_type": "markdown",
   "id": "3feb4be0",
   "metadata": {},
   "source": [
    "#### initialise the result string"
   ]
  },
  {
   "cell_type": "code",
   "execution_count": 47,
   "id": "974ed431",
   "metadata": {},
   "outputs": [],
   "source": [
    "result = \"\""
   ]
  },
  {
   "cell_type": "markdown",
   "id": "b7e12c80",
   "metadata": {},
   "source": [
    "#### initialise a hash "
   ]
  },
  {
   "cell_type": "code",
   "execution_count": 48,
   "id": "4a12c6ac",
   "metadata": {},
   "outputs": [],
   "source": [
    "hash_table = {}\n",
    "\n",
    "for r in range(numRows):\n",
    "    hash_table[r] = \"\""
   ]
  },
  {
   "cell_type": "markdown",
   "id": "83806a9a",
   "metadata": {},
   "source": [
    "#### analysis"
   ]
  },
  {
   "cell_type": "code",
   "execution_count": 49,
   "id": "41acc823",
   "metadata": {},
   "outputs": [
    {
     "data": {
      "text/plain": [
       "'\\nthe index-0 row: i // numRows % 2 == i % ((numRows-1)*2) == 0\\nthe index-1 row: i % ((numRows-1)*2) == 1\\nthe index-2 row: i % ((numRows-1)*2) == 2\\n.\\n.\\n.\\nthe index-h row: i % ((numRows-1)*2) == h\\n'"
      ]
     },
     "execution_count": 49,
     "metadata": {},
     "output_type": "execute_result"
    }
   ],
   "source": [
    "# find out the relationship between the hash key which represents the row number and the character index\n",
    "\"\"\"\n",
    "the index-0 row: i // numRows % 2 == i % ((numRows-1)*2) == 0\n",
    "the index-1 row: i % ((numRows-1)*2) == 1\n",
    "the index-2 row: i % ((numRows-1)*2) == 2\n",
    ".\n",
    ".\n",
    ".\n",
    "the index-h row: i % ((numRows-1)*2) == h\n",
    "\"\"\""
   ]
  },
  {
   "cell_type": "markdown",
   "id": "3a12089d",
   "metadata": {},
   "source": [
    "#### special lengths of s and numRows "
   ]
  },
  {
   "cell_type": "code",
   "execution_count": 50,
   "id": "11933781",
   "metadata": {},
   "outputs": [],
   "source": [
    "# when length of s is 1 or 2, directly return s\n",
    "if len(s) <= 2:\n",
    "    result = s"
   ]
  },
  {
   "cell_type": "markdown",
   "id": "0fbab018",
   "metadata": {},
   "source": [
    "#### iterate the index for creating the hash table"
   ]
  },
  {
   "cell_type": "code",
   "execution_count": 51,
   "id": "d9bca9cc",
   "metadata": {},
   "outputs": [],
   "source": [
    "# hash_table[0] condition index mod ((numRows-1)*2) equals to 0\n",
    "base = (numRows - 1) * 2\n",
    "\n",
    "for i in range(len(s)):\n",
    "    mod = i % base\n",
    "    if mod <= base / 2:\n",
    "        hash_table[mod] += s[i]\n",
    "    else:\n",
    "        complement = base - mod\n",
    "        hash_table[complement] += s[i]\n",
    "    \n",
    "    "
   ]
  },
  {
   "cell_type": "code",
   "execution_count": 52,
   "id": "5e42e759",
   "metadata": {},
   "outputs": [
    {
     "data": {
      "text/plain": [
       "{0: 'PIN', 1: 'ALSIG', 2: 'YAHR', 3: 'PI'}"
      ]
     },
     "execution_count": 52,
     "metadata": {},
     "output_type": "execute_result"
    }
   ],
   "source": [
    "hash_table"
   ]
  },
  {
   "cell_type": "code",
   "execution_count": 53,
   "id": "37e9dd68",
   "metadata": {},
   "outputs": [
    {
     "name": "stdout",
     "output_type": "stream",
     "text": [
      "PINALSIGYAHRPI\n"
     ]
    }
   ],
   "source": [
    "for k in hash_table.keys():\n",
    "    \n",
    "    result += hash_table[k]\n",
    "\n",
    "print(result)"
   ]
  },
  {
   "cell_type": "code",
   "execution_count": 55,
   "id": "7087a6ad",
   "metadata": {},
   "outputs": [
    {
     "name": "stdout",
     "output_type": "stream",
     "text": [
      "True\n"
     ]
    }
   ],
   "source": [
    "if result == expected_result:\n",
    "    print(True)"
   ]
  },
  {
   "cell_type": "markdown",
   "id": "d8104b6f",
   "metadata": {},
   "source": [
    "### Solution: iteratively visiting each row by O(n) hash table "
   ]
  },
  {
   "cell_type": "code",
   "execution_count": 57,
   "id": "7dc7012d",
   "metadata": {},
   "outputs": [],
   "source": [
    "class Solution:\n",
    "    def convert(self, s: str, numRows: int) -> str:\n",
    "        \n",
    "        if len(s) <= 2 or numRows == 1:\n",
    "            return s\n",
    "        \n",
    "        result = \"\"\n",
    "        \n",
    "        hash_table = {}\n",
    "        for r in range(numRows):\n",
    "            hash_table[r] = \"\"\n",
    "        \n",
    "        base = (numRows - 1) * 2\n",
    "        \n",
    "        for i in range(len(s)):\n",
    "            \n",
    "            mod = i % base\n",
    "            \n",
    "            if mod <= base / 2:\n",
    "                hash_table[mod] += s[i]\n",
    "            else:\n",
    "                complement = base - mod\n",
    "                hash_table[complement] += s[i]\n",
    "        \n",
    "        for k in hash_table.keys():\n",
    "            result += hash_table[k]\n",
    "        \n",
    "        return result"
   ]
  },
  {
   "cell_type": "code",
   "execution_count": null,
   "id": "d7041409",
   "metadata": {},
   "outputs": [],
   "source": []
  }
 ],
 "metadata": {
  "kernelspec": {
   "display_name": "Python 3 (ipykernel)",
   "language": "python",
   "name": "python3"
  },
  "language_info": {
   "codemirror_mode": {
    "name": "ipython",
    "version": 3
   },
   "file_extension": ".py",
   "mimetype": "text/x-python",
   "name": "python",
   "nbconvert_exporter": "python",
   "pygments_lexer": "ipython3",
   "version": "3.9.10"
  }
 },
 "nbformat": 4,
 "nbformat_minor": 5
}
