{
 "cells": [
  {
   "cell_type": "markdown",
   "id": "6f376f92",
   "metadata": {},
   "source": [
    "## Question 10: Regular Expression Matching"
   ]
  },
  {
   "cell_type": "code",
   "execution_count": 1,
   "id": "4f0c996c",
   "metadata": {
    "collapsed": true
   },
   "outputs": [
    {
     "data": {
      "text/plain": [
       "\"\\nGiven an input string s and a pattern p, implement regular expression matching with support for '.' and '*' where:\\n\\n1. '.' Matches any single character.\\n2. '*' Matches zero or more of the preceding element.\\n\\nThe matching should cover the entire input string (not partial)\\n\""
      ]
     },
     "execution_count": 1,
     "metadata": {},
     "output_type": "execute_result"
    }
   ],
   "source": [
    "\"\"\"\n",
    "Given an input string s and a pattern p, implement regular expression matching with support for '.' and '*' where:\n",
    "\n",
    "1. '.' Matches any single character.\n",
    "2. '*' Matches zero or more of the preceding element.\n",
    "\n",
    "The matching should cover the entire input string (not partial)\n",
    "\"\"\""
   ]
  },
  {
   "cell_type": "markdown",
   "id": "af9ea3da",
   "metadata": {},
   "source": [
    "### Example 1"
   ]
  },
  {
   "cell_type": "code",
   "execution_count": 3,
   "id": "1fd69565",
   "metadata": {},
   "outputs": [
    {
     "data": {
      "text/plain": [
       "'\\nInput: s = \"aa\", p =\"a\"\\nOutput: false\\nexplanation: \"a\" does not match the entire string \"aa\"\\n'"
      ]
     },
     "execution_count": 3,
     "metadata": {},
     "output_type": "execute_result"
    }
   ],
   "source": [
    "\"\"\"\n",
    "Input: s = \"aa\", p =\"a\"\n",
    "Output: false\n",
    "explanation: \"a\" does not match the entire string \"aa\"\n",
    "\"\"\""
   ]
  },
  {
   "cell_type": "markdown",
   "id": "17b97a81",
   "metadata": {},
   "source": [
    "### Example 2"
   ]
  },
  {
   "cell_type": "code",
   "execution_count": 5,
   "id": "a6356aec",
   "metadata": {},
   "outputs": [
    {
     "data": {
      "text/plain": [
       "'\\nInput: s = \"aa\", p = \"a*\"\\nOutput: true\\nexplanation: \\'*\\' means zero or more of the preceding element \\'a\\'. Therefore, by repeating \\'a\\' once, it becomes \"aa\".\\n'"
      ]
     },
     "execution_count": 5,
     "metadata": {},
     "output_type": "execute_result"
    }
   ],
   "source": [
    "\"\"\"\n",
    "Input: s = \"aa\", p = \"a*\"\n",
    "Output: true\n",
    "explanation: '*' means zero or more of the preceding element 'a'. Therefore, by repeating 'a' once, it becomes \"aa\".\n",
    "\"\"\""
   ]
  },
  {
   "cell_type": "markdown",
   "id": "81f82f3e",
   "metadata": {},
   "source": [
    "### Example 3"
   ]
  },
  {
   "cell_type": "code",
   "execution_count": 6,
   "id": "582f3db9",
   "metadata": {},
   "outputs": [
    {
     "data": {
      "text/plain": [
       "'\\nInput: s = \"ab\", p = \".*\"\\nOutput: true\\nexplanation: \".*\" means \"zero or more (*) of any character (.)\".\\n'"
      ]
     },
     "execution_count": 6,
     "metadata": {},
     "output_type": "execute_result"
    }
   ],
   "source": [
    "\"\"\"\n",
    "Input: s = \"ab\", p = \".*\"\n",
    "Output: true\n",
    "explanation: \".*\" means \"zero or more (*) of any character (.)\".\n",
    "\"\"\""
   ]
  },
  {
   "cell_type": "markdown",
   "id": "a3ca82b5",
   "metadata": {},
   "source": [
    "### Solution: Depth first search with recursion"
   ]
  },
  {
   "cell_type": "markdown",
   "id": "2d8cf147",
   "metadata": {},
   "source": [
    "#### initialise the string and pattern"
   ]
  },
  {
   "cell_type": "code",
   "execution_count": 7,
   "id": "c0ec58a9",
   "metadata": {},
   "outputs": [],
   "source": [
    "s = \"ab\"\n",
    "p = \".*\""
   ]
  },
  {
   "cell_type": "markdown",
   "id": "593cc371",
   "metadata": {},
   "source": [
    "#### solution function"
   ]
  },
  {
   "cell_type": "code",
   "execution_count": 10,
   "id": "13046beb",
   "metadata": {},
   "outputs": [],
   "source": [
    "class Solution:\n",
    "    def isMatch(self, s: str, p: str) -> bool:\n",
    "        \n",
    "        def dfs(i: int, j: int) -> bool:\n",
    "            \n",
    "            # base edge conditions:\n",
    "            \n",
    "            ## j gets outside the boundary of the pattern \n",
    "            if i >= len(s) and j >= len(p):  # all string slices match the corresponding pattern slices\n",
    "                return True\n",
    "            \n",
    "            ## j gets outside the boundary of the string\n",
    "            if j >= len(p):\n",
    "                return False\n",
    "            \n",
    "            # base case \n",
    "            ## same character or a character with a '.' pattern\n",
    "            match = i < len(s) and (s[i] == p[j] or p[j] == '.')\n",
    "            \n",
    "            # recursive cases\n",
    "            ## recursive match conditions for specific pattern \"*\"\n",
    "            if (j + 1) < len(p) and p[j + 1] == \"*\":\n",
    "                \n",
    "                # check when '*' means 0 or check when '*' means 1 more \n",
    "                return dfs(i, j + 2) or (match and dfs(i + 1, j))  \n",
    "            \n",
    "            ## recusive match conditions for simple one\n",
    "            if match:\n",
    "                return dfs(i + 1, j + 1)\n",
    "            \n",
    "            # exit recursion when certrain false occurs\n",
    "            return False\n",
    "                \n",
    "                       \n",
    "        # run the dfs function from the start of the string and pattern\n",
    "        return dfs(0, 0)\n",
    "         \n",
    "        \n",
    "        \n",
    "        "
   ]
  },
  {
   "cell_type": "markdown",
   "id": "7fc751ca",
   "metadata": {},
   "source": [
    "### Solution: Dynamic Programming with DFS "
   ]
  },
  {
   "cell_type": "code",
   "execution_count": 11,
   "id": "2169e6aa",
   "metadata": {},
   "outputs": [],
   "source": [
    "class Solution:\n",
    "    def isMatch(self, s: str, p: str) -> bool:\n",
    "        \n",
    "        # initialise the hash\n",
    "        hashmap = {}\n",
    "        \n",
    "        def dfs(i: int, j: int) -> bool:\n",
    "            \n",
    "            if (i, j) in hashmap:\n",
    "                return hashmap[(i, j)]\n",
    "            \n",
    "            # edge boundary\n",
    "            if i >= len(s) and j >= len(p):  \n",
    "                return True\n",
    "            if j >= len(p):\n",
    "                return False\n",
    "            \n",
    "            # base case \n",
    "            match = i < len(s) and (s[i] == p[j] or p[j] == '.')\n",
    "            \n",
    "            # recursive cases\n",
    "            ## recursive match conditions for specific pattern \"*\"\n",
    "            if (j + 1) < len(p) and p[j + 1] == \"*\":\n",
    "                \n",
    "                # check when '*' means 0 or check when '*' means 1 more \n",
    "                hashmap[(i, j)] = dfs(i, j + 2) or (match and dfs(i + 1, j))\n",
    "                return   hashmap[(i, j)]\n",
    "            \n",
    "            ## recusive match conditions for simple one\n",
    "            if match:\n",
    "                hashmap[(i, j)] = dfs(i + 1, j + 1)\n",
    "                return hashmap[(i, j)]\n",
    "            \n",
    "            # exit recursion when certrain false occurs\n",
    "            hashmap[(i, j)] = False\n",
    "            return hashmap[(i, j)]\n",
    "                \n",
    "                       \n",
    "        # run the dfs function from the start of the string and pattern\n",
    "        return dfs(0, 0)\n",
    "         \n",
    "        \n",
    "        \n",
    "        "
   ]
  },
  {
   "cell_type": "code",
   "execution_count": null,
   "id": "cb2715c9",
   "metadata": {},
   "outputs": [],
   "source": []
  }
 ],
 "metadata": {
  "kernelspec": {
   "display_name": "Python 3 (ipykernel)",
   "language": "python",
   "name": "python3"
  },
  "language_info": {
   "codemirror_mode": {
    "name": "ipython",
    "version": 3
   },
   "file_extension": ".py",
   "mimetype": "text/x-python",
   "name": "python",
   "nbconvert_exporter": "python",
   "pygments_lexer": "ipython3",
   "version": "3.9.10"
  }
 },
 "nbformat": 4,
 "nbformat_minor": 5
}
