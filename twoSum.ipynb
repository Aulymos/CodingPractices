{
 "cells": [
  {
   "cell_type": "markdown",
   "id": "34c0f86e",
   "metadata": {},
   "source": [
    "## Problem 1\n",
    "### Given an array of integers nums and an integer target\n",
    "### return indices of the two numbers such that they add up to target"
   ]
  },
  {
   "cell_type": "markdown",
   "id": "86e8f9ed",
   "metadata": {},
   "source": [
    "### example:\n",
    "### Input: nums = [2, 7, 11, 15], target = 9\n",
    "### output: [0, 1]\n",
    "### explanation: Because nums[0] + nums[1] == 9, we return [0, 1]"
   ]
  },
  {
   "cell_type": "markdown",
   "id": "13476631",
   "metadata": {},
   "source": [
    "### [solution 1] Brute Force O(n^2)"
   ]
  },
  {
   "cell_type": "code",
   "execution_count": 9,
   "id": "d0d59c7f",
   "metadata": {},
   "outputs": [],
   "source": [
    "class Solution:\n",
    "    def twoSum(self, nums: list[int], target: int) -> list[int]:\n",
    "        \n",
    "        result = []\n",
    "        \n",
    "        for i in range(0, (len(nums) - 1)):\n",
    "            for j in range((i + 1), len(nums)) :\n",
    "                if nums[i] + nums[j] == target:\n",
    "                    result.append(i)\n",
    "                    result.append(j)\n",
    "                    break\n",
    "        \n",
    "        return result"
   ]
  },
  {
   "cell_type": "code",
   "execution_count": 10,
   "id": "8a4c23d8",
   "metadata": {},
   "outputs": [
    {
     "data": {
      "text/plain": [
       "[0, 1]"
      ]
     },
     "execution_count": 10,
     "metadata": {},
     "output_type": "execute_result"
    }
   ],
   "source": [
    "solution.twoSum(1, [2, 7, 11, 15], 9)"
   ]
  },
  {
   "cell_type": "code",
   "execution_count": 11,
   "id": "bff15175",
   "metadata": {},
   "outputs": [],
   "source": [
    "sample = solution()"
   ]
  },
  {
   "cell_type": "code",
   "execution_count": 12,
   "id": "2ce986b1",
   "metadata": {},
   "outputs": [
    {
     "data": {
      "text/plain": [
       "[0, 1]"
      ]
     },
     "execution_count": 12,
     "metadata": {},
     "output_type": "execute_result"
    }
   ],
   "source": [
    "sample.twoSum([2, 7, 11, 15], 9)"
   ]
  },
  {
   "cell_type": "code",
   "execution_count": 13,
   "id": "d57edfa0",
   "metadata": {},
   "outputs": [],
   "source": [
    "sample_2 = solution()"
   ]
  },
  {
   "cell_type": "code",
   "execution_count": 14,
   "id": "4b28c6fd",
   "metadata": {},
   "outputs": [
    {
     "data": {
      "text/plain": [
       "[2, 3]"
      ]
     },
     "execution_count": 14,
     "metadata": {},
     "output_type": "execute_result"
    }
   ],
   "source": [
    "sample_2.twoSum([11, 15, 2, 7], 9)"
   ]
  },
  {
   "cell_type": "markdown",
   "id": "38f21146",
   "metadata": {},
   "source": [
    "### [solution 2] complement index O(n)"
   ]
  },
  {
   "cell_type": "code",
   "execution_count": 6,
   "id": "60fca3e7",
   "metadata": {},
   "outputs": [],
   "source": [
    "class Solution2:\n",
    "    def twoSum(self, nums: list[int], target: int) -> list[int]:\n",
    "        \n",
    "        result = []\n",
    "        \n",
    "        for i in range(0, len(nums)):\n",
    "            complement = target - nums[i]\n",
    "            if complement in nums and nums.index(complement) != i:\n",
    "                result.append(i)\n",
    "                result.append(nums.index(complement))\n",
    "                break\n",
    "        \n",
    "        return result"
   ]
  },
  {
   "cell_type": "code",
   "execution_count": 7,
   "id": "d5182b37",
   "metadata": {},
   "outputs": [],
   "source": [
    "sample = Solution2()"
   ]
  },
  {
   "cell_type": "code",
   "execution_count": 8,
   "id": "d0ea734e",
   "metadata": {},
   "outputs": [
    {
     "data": {
      "text/plain": [
       "[0, 1]"
      ]
     },
     "execution_count": 8,
     "metadata": {},
     "output_type": "execute_result"
    }
   ],
   "source": [
    "sample.twoSum([2, 7, 11, 15], 9)"
   ]
  },
  {
   "cell_type": "code",
   "execution_count": 9,
   "id": "50a2ddd0",
   "metadata": {},
   "outputs": [],
   "source": [
    "sample_2 = Solution2()"
   ]
  },
  {
   "cell_type": "code",
   "execution_count": 11,
   "id": "57a0182b",
   "metadata": {},
   "outputs": [
    {
     "data": {
      "text/plain": [
       "[1, 2]"
      ]
     },
     "execution_count": 11,
     "metadata": {},
     "output_type": "execute_result"
    }
   ],
   "source": [
    "sample_2.twoSum([3, 2, 4], 6)"
   ]
  },
  {
   "cell_type": "code",
   "execution_count": null,
   "id": "7b69cdde",
   "metadata": {},
   "outputs": [],
   "source": []
  }
 ],
 "metadata": {
  "kernelspec": {
   "display_name": "Python 3 (ipykernel)",
   "language": "python",
   "name": "python3"
  },
  "language_info": {
   "codemirror_mode": {
    "name": "ipython",
    "version": 3
   },
   "file_extension": ".py",
   "mimetype": "text/x-python",
   "name": "python",
   "nbconvert_exporter": "python",
   "pygments_lexer": "ipython3",
   "version": "3.9.10"
  }
 },
 "nbformat": 4,
 "nbformat_minor": 5
}
